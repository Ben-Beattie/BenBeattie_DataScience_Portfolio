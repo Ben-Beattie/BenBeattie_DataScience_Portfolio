{
 "cells": [
  {
   "cell_type": "markdown",
   "id": "7328ba2c-649b-40bf-962e-9ece467d4aa6",
   "metadata": {},
   "source": [
    "## Data cleaning"
   ]
  },
  {
   "cell_type": "markdown",
   "id": "3ea731b3-bfd3-4a39-8a34-cf0c8789bdfc",
   "metadata": {},
   "source": [
    "### Cleaning data and combining test and train set\n",
    "this was completed as we wish to distribute the data into our own train and test set in further development of our predicitive modelling"
   ]
  },
  {
   "cell_type": "code",
   "execution_count": 3,
   "id": "a0f4f9c0-229c-4b91-8204-909ba0b1f5fc",
   "metadata": {},
   "outputs": [],
   "source": [
    "import pandas as pd"
   ]
  },
  {
   "cell_type": "code",
   "execution_count": 4,
   "id": "1b5a3014-2045-4e5f-8f25-19a389783da1",
   "metadata": {},
   "outputs": [],
   "source": [
    "df1 = pd.read_csv(\"social_media_data/test.csv\")  # Replace with the actual filename"
   ]
  },
  {
   "cell_type": "code",
   "execution_count": 5,
   "id": "5c07f604-e6eb-472d-9b21-e1d5d3d3ffea",
   "metadata": {},
   "outputs": [
    {
     "data": {
      "text/html": [
       "<div>\n",
       "<style scoped>\n",
       "    .dataframe tbody tr th:only-of-type {\n",
       "        vertical-align: middle;\n",
       "    }\n",
       "\n",
       "    .dataframe tbody tr th {\n",
       "        vertical-align: top;\n",
       "    }\n",
       "\n",
       "    .dataframe thead th {\n",
       "        text-align: right;\n",
       "    }\n",
       "</style>\n",
       "<table border=\"1\" class=\"dataframe\">\n",
       "  <thead>\n",
       "    <tr style=\"text-align: right;\">\n",
       "      <th></th>\n",
       "      <th>User_ID</th>\n",
       "      <th>Age</th>\n",
       "      <th>Gender</th>\n",
       "      <th>Platform</th>\n",
       "      <th>Daily_Usage_Time (minutes)</th>\n",
       "      <th>Posts_Per_Day</th>\n",
       "      <th>Likes_Received_Per_Day</th>\n",
       "      <th>Comments_Received_Per_Day</th>\n",
       "      <th>Messages_Sent_Per_Day</th>\n",
       "      <th>Dominant_Emotion</th>\n",
       "    </tr>\n",
       "  </thead>\n",
       "  <tbody>\n",
       "    <tr>\n",
       "      <th>0</th>\n",
       "      <td>500</td>\n",
       "      <td>27</td>\n",
       "      <td>Female</td>\n",
       "      <td>Snapchat</td>\n",
       "      <td>120</td>\n",
       "      <td>4</td>\n",
       "      <td>40</td>\n",
       "      <td>18</td>\n",
       "      <td>22</td>\n",
       "      <td>Neutral</td>\n",
       "    </tr>\n",
       "    <tr>\n",
       "      <th>1</th>\n",
       "      <td>488</td>\n",
       "      <td>21</td>\n",
       "      <td>Non-binary</td>\n",
       "      <td>Snapchat</td>\n",
       "      <td>60</td>\n",
       "      <td>1</td>\n",
       "      <td>18</td>\n",
       "      <td>7</td>\n",
       "      <td>12</td>\n",
       "      <td>Neutral</td>\n",
       "    </tr>\n",
       "    <tr>\n",
       "      <th>2</th>\n",
       "      <td>776</td>\n",
       "      <td>28</td>\n",
       "      <td>Non-binary</td>\n",
       "      <td>Snapchat</td>\n",
       "      <td>115</td>\n",
       "      <td>3</td>\n",
       "      <td>38</td>\n",
       "      <td>18</td>\n",
       "      <td>27</td>\n",
       "      <td>Anxiety</td>\n",
       "    </tr>\n",
       "    <tr>\n",
       "      <th>3</th>\n",
       "      <td>869</td>\n",
       "      <td>27</td>\n",
       "      <td>Male</td>\n",
       "      <td>Telegram</td>\n",
       "      <td>105</td>\n",
       "      <td>3</td>\n",
       "      <td>48</td>\n",
       "      <td>20</td>\n",
       "      <td>28</td>\n",
       "      <td>Anxiety</td>\n",
       "    </tr>\n",
       "    <tr>\n",
       "      <th>4</th>\n",
       "      <td>573</td>\n",
       "      <td>21</td>\n",
       "      <td>Non-binary</td>\n",
       "      <td>Facebook</td>\n",
       "      <td>55</td>\n",
       "      <td>3</td>\n",
       "      <td>17</td>\n",
       "      <td>7</td>\n",
       "      <td>12</td>\n",
       "      <td>Neutral</td>\n",
       "    </tr>\n",
       "    <tr>\n",
       "      <th>...</th>\n",
       "      <td>...</td>\n",
       "      <td>...</td>\n",
       "      <td>...</td>\n",
       "      <td>...</td>\n",
       "      <td>...</td>\n",
       "      <td>...</td>\n",
       "      <td>...</td>\n",
       "      <td>...</td>\n",
       "      <td>...</td>\n",
       "      <td>...</td>\n",
       "    </tr>\n",
       "    <tr>\n",
       "      <th>98</th>\n",
       "      <td>184</td>\n",
       "      <td>22</td>\n",
       "      <td>Male</td>\n",
       "      <td>Twitter</td>\n",
       "      <td>70</td>\n",
       "      <td>1</td>\n",
       "      <td>20</td>\n",
       "      <td>5</td>\n",
       "      <td>22</td>\n",
       "      <td>Neutral</td>\n",
       "    </tr>\n",
       "    <tr>\n",
       "      <th>99</th>\n",
       "      <td>896</td>\n",
       "      <td>33</td>\n",
       "      <td>Male</td>\n",
       "      <td>LinkedIn</td>\n",
       "      <td>85</td>\n",
       "      <td>4</td>\n",
       "      <td>35</td>\n",
       "      <td>18</td>\n",
       "      <td>18</td>\n",
       "      <td>Boredom</td>\n",
       "    </tr>\n",
       "    <tr>\n",
       "      <th>100</th>\n",
       "      <td>708</td>\n",
       "      <td>24</td>\n",
       "      <td>Non-binary</td>\n",
       "      <td>Facebook</td>\n",
       "      <td>110</td>\n",
       "      <td>6</td>\n",
       "      <td>35</td>\n",
       "      <td>23</td>\n",
       "      <td>25</td>\n",
       "      <td>Sadness</td>\n",
       "    </tr>\n",
       "    <tr>\n",
       "      <th>101</th>\n",
       "      <td>993</td>\n",
       "      <td>24</td>\n",
       "      <td>Male</td>\n",
       "      <td>Telegram</td>\n",
       "      <td>75</td>\n",
       "      <td>3</td>\n",
       "      <td>37</td>\n",
       "      <td>16</td>\n",
       "      <td>22</td>\n",
       "      <td>Neutral</td>\n",
       "    </tr>\n",
       "    <tr>\n",
       "      <th>102</th>\n",
       "      <td>60</td>\n",
       "      <td>27</td>\n",
       "      <td>Male</td>\n",
       "      <td>Facebook</td>\n",
       "      <td>60</td>\n",
       "      <td>1</td>\n",
       "      <td>10</td>\n",
       "      <td>4</td>\n",
       "      <td>15</td>\n",
       "      <td>Boredom</td>\n",
       "    </tr>\n",
       "  </tbody>\n",
       "</table>\n",
       "<p>103 rows × 10 columns</p>\n",
       "</div>"
      ],
      "text/plain": [
       "     User_ID Age      Gender  Platform  Daily_Usage_Time (minutes)  \\\n",
       "0        500  27      Female  Snapchat                         120   \n",
       "1        488  21  Non-binary  Snapchat                          60   \n",
       "2        776  28  Non-binary  Snapchat                         115   \n",
       "3        869  27        Male  Telegram                         105   \n",
       "4        573  21  Non-binary  Facebook                          55   \n",
       "..       ...  ..         ...       ...                         ...   \n",
       "98       184  22        Male   Twitter                          70   \n",
       "99       896  33        Male  LinkedIn                          85   \n",
       "100      708  24  Non-binary  Facebook                         110   \n",
       "101      993  24        Male  Telegram                          75   \n",
       "102       60  27        Male  Facebook                          60   \n",
       "\n",
       "     Posts_Per_Day  Likes_Received_Per_Day  Comments_Received_Per_Day  \\\n",
       "0                4                      40                         18   \n",
       "1                1                      18                          7   \n",
       "2                3                      38                         18   \n",
       "3                3                      48                         20   \n",
       "4                3                      17                          7   \n",
       "..             ...                     ...                        ...   \n",
       "98               1                      20                          5   \n",
       "99               4                      35                         18   \n",
       "100              6                      35                         23   \n",
       "101              3                      37                         16   \n",
       "102              1                      10                          4   \n",
       "\n",
       "     Messages_Sent_Per_Day Dominant_Emotion  \n",
       "0                       22          Neutral  \n",
       "1                       12          Neutral  \n",
       "2                       27          Anxiety  \n",
       "3                       28          Anxiety  \n",
       "4                       12          Neutral  \n",
       "..                     ...              ...  \n",
       "98                      22          Neutral  \n",
       "99                      18          Boredom  \n",
       "100                     25          Sadness  \n",
       "101                     22          Neutral  \n",
       "102                     15          Boredom  \n",
       "\n",
       "[103 rows x 10 columns]"
      ]
     },
     "execution_count": 5,
     "metadata": {},
     "output_type": "execute_result"
    }
   ],
   "source": [
    "df1"
   ]
  },
  {
   "cell_type": "code",
   "execution_count": 6,
   "id": "4d94b0d5-bb02-4e21-9138-48895407b346",
   "metadata": {},
   "outputs": [],
   "source": [
    "df2 = pd.read_csv(\"social_media_data/train.csv\")"
   ]
  },
  {
   "cell_type": "code",
   "execution_count": 7,
   "id": "8e667d27-b21a-435f-940d-c7b532405849",
   "metadata": {},
   "outputs": [
    {
     "data": {
      "text/html": [
       "<div>\n",
       "<style scoped>\n",
       "    .dataframe tbody tr th:only-of-type {\n",
       "        vertical-align: middle;\n",
       "    }\n",
       "\n",
       "    .dataframe tbody tr th {\n",
       "        vertical-align: top;\n",
       "    }\n",
       "\n",
       "    .dataframe thead th {\n",
       "        text-align: right;\n",
       "    }\n",
       "</style>\n",
       "<table border=\"1\" class=\"dataframe\">\n",
       "  <thead>\n",
       "    <tr style=\"text-align: right;\">\n",
       "      <th></th>\n",
       "      <th>User_ID</th>\n",
       "      <th>Age</th>\n",
       "      <th>Gender</th>\n",
       "      <th>Platform</th>\n",
       "      <th>Daily_Usage_Time (minutes)</th>\n",
       "      <th>Posts_Per_Day</th>\n",
       "      <th>Likes_Received_Per_Day</th>\n",
       "      <th>Comments_Received_Per_Day</th>\n",
       "      <th>Messages_Sent_Per_Day</th>\n",
       "      <th>Dominant_Emotion</th>\n",
       "    </tr>\n",
       "  </thead>\n",
       "  <tbody>\n",
       "    <tr>\n",
       "      <th>0</th>\n",
       "      <td>1</td>\n",
       "      <td>25</td>\n",
       "      <td>Female</td>\n",
       "      <td>Instagram</td>\n",
       "      <td>120.0</td>\n",
       "      <td>3.0</td>\n",
       "      <td>45.0</td>\n",
       "      <td>10.0</td>\n",
       "      <td>12.0</td>\n",
       "      <td>Happiness</td>\n",
       "    </tr>\n",
       "    <tr>\n",
       "      <th>1</th>\n",
       "      <td>2</td>\n",
       "      <td>30</td>\n",
       "      <td>Male</td>\n",
       "      <td>Twitter</td>\n",
       "      <td>90.0</td>\n",
       "      <td>5.0</td>\n",
       "      <td>20.0</td>\n",
       "      <td>25.0</td>\n",
       "      <td>30.0</td>\n",
       "      <td>Anger</td>\n",
       "    </tr>\n",
       "    <tr>\n",
       "      <th>2</th>\n",
       "      <td>3</td>\n",
       "      <td>22</td>\n",
       "      <td>Non-binary</td>\n",
       "      <td>Facebook</td>\n",
       "      <td>60.0</td>\n",
       "      <td>2.0</td>\n",
       "      <td>15.0</td>\n",
       "      <td>5.0</td>\n",
       "      <td>20.0</td>\n",
       "      <td>Neutral</td>\n",
       "    </tr>\n",
       "    <tr>\n",
       "      <th>3</th>\n",
       "      <td>4</td>\n",
       "      <td>28</td>\n",
       "      <td>Female</td>\n",
       "      <td>Instagram</td>\n",
       "      <td>200.0</td>\n",
       "      <td>8.0</td>\n",
       "      <td>100.0</td>\n",
       "      <td>30.0</td>\n",
       "      <td>50.0</td>\n",
       "      <td>Anxiety</td>\n",
       "    </tr>\n",
       "    <tr>\n",
       "      <th>4</th>\n",
       "      <td>5</td>\n",
       "      <td>33</td>\n",
       "      <td>Male</td>\n",
       "      <td>LinkedIn</td>\n",
       "      <td>45.0</td>\n",
       "      <td>1.0</td>\n",
       "      <td>5.0</td>\n",
       "      <td>2.0</td>\n",
       "      <td>10.0</td>\n",
       "      <td>Boredom</td>\n",
       "    </tr>\n",
       "    <tr>\n",
       "      <th>...</th>\n",
       "      <td>...</td>\n",
       "      <td>...</td>\n",
       "      <td>...</td>\n",
       "      <td>...</td>\n",
       "      <td>...</td>\n",
       "      <td>...</td>\n",
       "      <td>...</td>\n",
       "      <td>...</td>\n",
       "      <td>...</td>\n",
       "      <td>...</td>\n",
       "    </tr>\n",
       "    <tr>\n",
       "      <th>996</th>\n",
       "      <td>996</td>\n",
       "      <td>33</td>\n",
       "      <td>Non-binary</td>\n",
       "      <td>Twitter</td>\n",
       "      <td>85.0</td>\n",
       "      <td>4.0</td>\n",
       "      <td>35.0</td>\n",
       "      <td>18.0</td>\n",
       "      <td>18.0</td>\n",
       "      <td>Boredom</td>\n",
       "    </tr>\n",
       "    <tr>\n",
       "      <th>997</th>\n",
       "      <td>997</td>\n",
       "      <td>22</td>\n",
       "      <td>Female</td>\n",
       "      <td>Facebook</td>\n",
       "      <td>70.0</td>\n",
       "      <td>1.0</td>\n",
       "      <td>14.0</td>\n",
       "      <td>6.0</td>\n",
       "      <td>10.0</td>\n",
       "      <td>Neutral</td>\n",
       "    </tr>\n",
       "    <tr>\n",
       "      <th>998</th>\n",
       "      <td>998</td>\n",
       "      <td>35</td>\n",
       "      <td>Male</td>\n",
       "      <td>Whatsapp</td>\n",
       "      <td>110.0</td>\n",
       "      <td>3.0</td>\n",
       "      <td>50.0</td>\n",
       "      <td>25.0</td>\n",
       "      <td>25.0</td>\n",
       "      <td>Happiness</td>\n",
       "    </tr>\n",
       "    <tr>\n",
       "      <th>999</th>\n",
       "      <td>999</td>\n",
       "      <td>28</td>\n",
       "      <td>Non-binary</td>\n",
       "      <td>Telegram</td>\n",
       "      <td>60.0</td>\n",
       "      <td>2.0</td>\n",
       "      <td>18.0</td>\n",
       "      <td>8.0</td>\n",
       "      <td>18.0</td>\n",
       "      <td>Anger</td>\n",
       "    </tr>\n",
       "    <tr>\n",
       "      <th>1000</th>\n",
       "      <td>1000</td>\n",
       "      <td>27</td>\n",
       "      <td>Female</td>\n",
       "      <td>Snapchat</td>\n",
       "      <td>120.0</td>\n",
       "      <td>4.0</td>\n",
       "      <td>40.0</td>\n",
       "      <td>18.0</td>\n",
       "      <td>22.0</td>\n",
       "      <td>Neutral</td>\n",
       "    </tr>\n",
       "  </tbody>\n",
       "</table>\n",
       "<p>1001 rows × 10 columns</p>\n",
       "</div>"
      ],
      "text/plain": [
       "     User_ID Age      Gender   Platform  Daily_Usage_Time (minutes)  \\\n",
       "0          1  25      Female  Instagram                       120.0   \n",
       "1          2  30        Male    Twitter                        90.0   \n",
       "2          3  22  Non-binary   Facebook                        60.0   \n",
       "3          4  28      Female  Instagram                       200.0   \n",
       "4          5  33        Male   LinkedIn                        45.0   \n",
       "...      ...  ..         ...        ...                         ...   \n",
       "996      996  33  Non-binary    Twitter                        85.0   \n",
       "997      997  22      Female   Facebook                        70.0   \n",
       "998      998  35        Male   Whatsapp                       110.0   \n",
       "999      999  28  Non-binary   Telegram                        60.0   \n",
       "1000    1000  27      Female   Snapchat                       120.0   \n",
       "\n",
       "      Posts_Per_Day  Likes_Received_Per_Day  Comments_Received_Per_Day  \\\n",
       "0               3.0                    45.0                       10.0   \n",
       "1               5.0                    20.0                       25.0   \n",
       "2               2.0                    15.0                        5.0   \n",
       "3               8.0                   100.0                       30.0   \n",
       "4               1.0                     5.0                        2.0   \n",
       "...             ...                     ...                        ...   \n",
       "996             4.0                    35.0                       18.0   \n",
       "997             1.0                    14.0                        6.0   \n",
       "998             3.0                    50.0                       25.0   \n",
       "999             2.0                    18.0                        8.0   \n",
       "1000            4.0                    40.0                       18.0   \n",
       "\n",
       "      Messages_Sent_Per_Day Dominant_Emotion  \n",
       "0                      12.0        Happiness  \n",
       "1                      30.0            Anger  \n",
       "2                      20.0          Neutral  \n",
       "3                      50.0          Anxiety  \n",
       "4                      10.0          Boredom  \n",
       "...                     ...              ...  \n",
       "996                    18.0          Boredom  \n",
       "997                    10.0          Neutral  \n",
       "998                    25.0        Happiness  \n",
       "999                    18.0            Anger  \n",
       "1000                   22.0          Neutral  \n",
       "\n",
       "[1001 rows x 10 columns]"
      ]
     },
     "execution_count": 7,
     "metadata": {},
     "output_type": "execute_result"
    }
   ],
   "source": [
    "df2"
   ]
  },
  {
   "cell_type": "code",
   "execution_count": 8,
   "id": "f7442561-db14-40b7-97bc-08b03d7f7f20",
   "metadata": {},
   "outputs": [
    {
     "data": {
      "text/plain": [
       "User_ID                        int64\n",
       "Age                           object\n",
       "Gender                        object\n",
       "Platform                      object\n",
       "Daily_Usage_Time (minutes)     int64\n",
       "Posts_Per_Day                  int64\n",
       "Likes_Received_Per_Day         int64\n",
       "Comments_Received_Per_Day      int64\n",
       "Messages_Sent_Per_Day          int64\n",
       "Dominant_Emotion              object\n",
       "dtype: object"
      ]
     },
     "execution_count": 8,
     "metadata": {},
     "output_type": "execute_result"
    }
   ],
   "source": [
    "df1.dtypes"
   ]
  },
  {
   "cell_type": "code",
   "execution_count": 9,
   "id": "c8f8af03-2ec6-4352-ae10-82406db9398e",
   "metadata": {},
   "outputs": [
    {
     "data": {
      "text/plain": [
       "User_ID                        object\n",
       "Age                            object\n",
       "Gender                         object\n",
       "Platform                       object\n",
       "Daily_Usage_Time (minutes)    float64\n",
       "Posts_Per_Day                 float64\n",
       "Likes_Received_Per_Day        float64\n",
       "Comments_Received_Per_Day     float64\n",
       "Messages_Sent_Per_Day         float64\n",
       "Dominant_Emotion               object\n",
       "dtype: object"
      ]
     },
     "execution_count": 9,
     "metadata": {},
     "output_type": "execute_result"
    }
   ],
   "source": [
    "df2.dtypes"
   ]
  },
  {
   "cell_type": "code",
   "execution_count": 10,
   "id": "d171d6fc-43d7-4905-88d2-1aa9e7dd3156",
   "metadata": {},
   "outputs": [
    {
     "data": {
      "text/plain": [
       "User_ID                       0\n",
       "Age                           0\n",
       "Gender                        0\n",
       "Platform                      0\n",
       "Daily_Usage_Time (minutes)    0\n",
       "Posts_Per_Day                 0\n",
       "Likes_Received_Per_Day        0\n",
       "Comments_Received_Per_Day     0\n",
       "Messages_Sent_Per_Day         0\n",
       "Dominant_Emotion              0\n",
       "dtype: int64"
      ]
     },
     "execution_count": 10,
     "metadata": {},
     "output_type": "execute_result"
    }
   ],
   "source": [
    "df1.isna().sum()"
   ]
  },
  {
   "cell_type": "code",
   "execution_count": 11,
   "id": "62e99ae5-2f2b-4148-a9ca-ddcd2f7941e8",
   "metadata": {},
   "outputs": [
    {
     "data": {
      "text/plain": [
       "User_ID                       0\n",
       "Age                           0\n",
       "Gender                        1\n",
       "Platform                      1\n",
       "Daily_Usage_Time (minutes)    1\n",
       "Posts_Per_Day                 1\n",
       "Likes_Received_Per_Day        1\n",
       "Comments_Received_Per_Day     1\n",
       "Messages_Sent_Per_Day         1\n",
       "Dominant_Emotion              1\n",
       "dtype: int64"
      ]
     },
     "execution_count": 11,
     "metadata": {},
     "output_type": "execute_result"
    }
   ],
   "source": [
    "df2.isna().sum()"
   ]
  },
  {
   "cell_type": "code",
   "execution_count": 12,
   "id": "058bf020-d1ec-4631-8186-3e3f68852da1",
   "metadata": {},
   "outputs": [
    {
     "data": {
      "text/html": [
       "<div>\n",
       "<style scoped>\n",
       "    .dataframe tbody tr th:only-of-type {\n",
       "        vertical-align: middle;\n",
       "    }\n",
       "\n",
       "    .dataframe tbody tr th {\n",
       "        vertical-align: top;\n",
       "    }\n",
       "\n",
       "    .dataframe thead th {\n",
       "        text-align: right;\n",
       "    }\n",
       "</style>\n",
       "<table border=\"1\" class=\"dataframe\">\n",
       "  <thead>\n",
       "    <tr style=\"text-align: right;\">\n",
       "      <th></th>\n",
       "      <th>User_ID</th>\n",
       "      <th>Age</th>\n",
       "      <th>Gender</th>\n",
       "      <th>Platform</th>\n",
       "      <th>Daily_Usage_Time (minutes)</th>\n",
       "      <th>Posts_Per_Day</th>\n",
       "      <th>Likes_Received_Per_Day</th>\n",
       "      <th>Comments_Received_Per_Day</th>\n",
       "      <th>Messages_Sent_Per_Day</th>\n",
       "      <th>Dominant_Emotion</th>\n",
       "    </tr>\n",
       "  </thead>\n",
       "  <tbody>\n",
       "    <tr>\n",
       "      <th>641</th>\n",
       "      <td>Tabii</td>\n",
       "      <td>işte mevcut veri kümesini 1000 satıra tamamlı...</td>\n",
       "      <td>NaN</td>\n",
       "      <td>NaN</td>\n",
       "      <td>NaN</td>\n",
       "      <td>NaN</td>\n",
       "      <td>NaN</td>\n",
       "      <td>NaN</td>\n",
       "      <td>NaN</td>\n",
       "      <td>NaN</td>\n",
       "    </tr>\n",
       "  </tbody>\n",
       "</table>\n",
       "</div>"
      ],
      "text/plain": [
       "    User_ID                                                Age Gender  \\\n",
       "641   Tabii   işte mevcut veri kümesini 1000 satıra tamamlı...    NaN   \n",
       "\n",
       "    Platform  Daily_Usage_Time (minutes)  Posts_Per_Day  \\\n",
       "641      NaN                         NaN            NaN   \n",
       "\n",
       "     Likes_Received_Per_Day  Comments_Received_Per_Day  Messages_Sent_Per_Day  \\\n",
       "641                     NaN                        NaN                    NaN   \n",
       "\n",
       "    Dominant_Emotion  \n",
       "641              NaN  "
      ]
     },
     "execution_count": 12,
     "metadata": {},
     "output_type": "execute_result"
    }
   ],
   "source": [
    "null = df2[df2.isna().any(axis=1)]\n",
    "null"
   ]
  },
  {
   "cell_type": "code",
   "execution_count": 13,
   "id": "8645b132-3ef4-4123-bf2a-3e029fbb4258",
   "metadata": {},
   "outputs": [],
   "source": [
    "df2 = df2.dropna()"
   ]
  },
  {
   "cell_type": "code",
   "execution_count": 14,
   "id": "20a2666c-3182-4bae-8c13-49f999c99bd9",
   "metadata": {},
   "outputs": [
    {
     "data": {
      "text/plain": [
       "User_ID                       0\n",
       "Age                           0\n",
       "Gender                        0\n",
       "Platform                      0\n",
       "Daily_Usage_Time (minutes)    0\n",
       "Posts_Per_Day                 0\n",
       "Likes_Received_Per_Day        0\n",
       "Comments_Received_Per_Day     0\n",
       "Messages_Sent_Per_Day         0\n",
       "Dominant_Emotion              0\n",
       "dtype: int64"
      ]
     },
     "execution_count": 14,
     "metadata": {},
     "output_type": "execute_result"
    }
   ],
   "source": [
    "df2.isna().sum()"
   ]
  },
  {
   "cell_type": "code",
   "execution_count": 15,
   "id": "52a6e060-4a34-48c8-b277-65d8923c11cb",
   "metadata": {},
   "outputs": [
    {
     "data": {
      "text/plain": [
       "(1000, 10)"
      ]
     },
     "execution_count": 15,
     "metadata": {},
     "output_type": "execute_result"
    }
   ],
   "source": [
    "df2.shape"
   ]
  },
  {
   "cell_type": "code",
   "execution_count": 16,
   "id": "2223446f-4e26-4b62-af20-4b2f65f71765",
   "metadata": {},
   "outputs": [
    {
     "name": "stderr",
     "output_type": "stream",
     "text": [
      "/var/folders/8c/wmx2lppx51j_6rsjq4hty9y80000gn/T/ipykernel_65960/687282941.py:1: SettingWithCopyWarning: \n",
      "A value is trying to be set on a copy of a slice from a DataFrame.\n",
      "Try using .loc[row_indexer,col_indexer] = value instead\n",
      "\n",
      "See the caveats in the documentation: https://pandas.pydata.org/pandas-docs/stable/user_guide/indexing.html#returning-a-view-versus-a-copy\n",
      "  df2['User_ID'] = df2['User_ID'].fillna(0).astype(int)\n"
     ]
    }
   ],
   "source": [
    "df2['User_ID'] = df2['User_ID'].fillna(0).astype(int)  "
   ]
  },
  {
   "cell_type": "code",
   "execution_count": 17,
   "id": "135028c3-8c3e-448c-9948-5c6cdb62efdb",
   "metadata": {},
   "outputs": [
    {
     "data": {
      "text/plain": [
       "User_ID                         int64\n",
       "Age                            object\n",
       "Gender                         object\n",
       "Platform                       object\n",
       "Daily_Usage_Time (minutes)    float64\n",
       "Posts_Per_Day                 float64\n",
       "Likes_Received_Per_Day        float64\n",
       "Comments_Received_Per_Day     float64\n",
       "Messages_Sent_Per_Day         float64\n",
       "Dominant_Emotion               object\n",
       "dtype: object"
      ]
     },
     "execution_count": 17,
     "metadata": {},
     "output_type": "execute_result"
    }
   ],
   "source": [
    "df2.dtypes"
   ]
  },
  {
   "cell_type": "code",
   "execution_count": 18,
   "id": "4cb5db31-b2ce-4633-a78b-ea3297c58e69",
   "metadata": {},
   "outputs": [
    {
     "data": {
      "text/plain": [
       "Age\n",
       "28            92\n",
       "27            92\n",
       "29            90\n",
       "22            74\n",
       "26            66\n",
       "25            64\n",
       "24            64\n",
       "31            62\n",
       "21            56\n",
       "33            56\n",
       "30            48\n",
       "23            48\n",
       "35            38\n",
       "32            38\n",
       "34            36\n",
       "Male          28\n",
       "Female        26\n",
       "Non-binary    22\n",
       "Name: count, dtype: int64"
      ]
     },
     "execution_count": 18,
     "metadata": {},
     "output_type": "execute_result"
    }
   ],
   "source": [
    "df2['Age'].value_counts()"
   ]
  },
  {
   "cell_type": "code",
   "execution_count": 19,
   "id": "d09f5072-ce51-4c71-9499-479fe6e7c225",
   "metadata": {},
   "outputs": [
    {
     "data": {
      "text/plain": [
       "Age\n",
       "28      13\n",
       "27      12\n",
       "23      11\n",
       "31      10\n",
       "29      10\n",
       "26       8\n",
       "25       6\n",
       "24       6\n",
       "21       5\n",
       "32       5\n",
       "22       4\n",
       "33       3\n",
       "35       3\n",
       "34       3\n",
       "30       3\n",
       "Male     1\n",
       "Name: count, dtype: int64"
      ]
     },
     "execution_count": 19,
     "metadata": {},
     "output_type": "execute_result"
    }
   ],
   "source": [
    "df1['Age'].value_counts()"
   ]
  },
  {
   "cell_type": "code",
   "execution_count": 20,
   "id": "79bc827f-1690-439e-8d26-97926b8a94ae",
   "metadata": {},
   "outputs": [],
   "source": [
    "wrongVals = df2[(df2['Gender'] != 'Male') & (df2['Gender'] != 'Female') & (df2['Gender'] != 'Non-binary')]"
   ]
  },
  {
   "cell_type": "code",
   "execution_count": 21,
   "id": "1ee4b90b-5db2-4e4a-9136-0e8d77c87ad9",
   "metadata": {},
   "outputs": [
    {
     "data": {
      "text/html": [
       "<div>\n",
       "<style scoped>\n",
       "    .dataframe tbody tr th:only-of-type {\n",
       "        vertical-align: middle;\n",
       "    }\n",
       "\n",
       "    .dataframe tbody tr th {\n",
       "        vertical-align: top;\n",
       "    }\n",
       "\n",
       "    .dataframe thead th {\n",
       "        text-align: right;\n",
       "    }\n",
       "</style>\n",
       "<table border=\"1\" class=\"dataframe\">\n",
       "  <thead>\n",
       "    <tr style=\"text-align: right;\">\n",
       "      <th></th>\n",
       "      <th>User_ID</th>\n",
       "      <th>Age</th>\n",
       "      <th>Gender</th>\n",
       "      <th>Platform</th>\n",
       "      <th>Daily_Usage_Time (minutes)</th>\n",
       "      <th>Posts_Per_Day</th>\n",
       "      <th>Likes_Received_Per_Day</th>\n",
       "      <th>Comments_Received_Per_Day</th>\n",
       "      <th>Messages_Sent_Per_Day</th>\n",
       "      <th>Dominant_Emotion</th>\n",
       "    </tr>\n",
       "  </thead>\n",
       "  <tbody>\n",
       "    <tr>\n",
       "      <th>250</th>\n",
       "      <td>251</td>\n",
       "      <td>Male</td>\n",
       "      <td>27</td>\n",
       "      <td>Instagram</td>\n",
       "      <td>165.0</td>\n",
       "      <td>6.0</td>\n",
       "      <td>85.0</td>\n",
       "      <td>30.0</td>\n",
       "      <td>28.0</td>\n",
       "      <td>Happiness</td>\n",
       "    </tr>\n",
       "    <tr>\n",
       "      <th>251</th>\n",
       "      <td>252</td>\n",
       "      <td>Female</td>\n",
       "      <td>24</td>\n",
       "      <td>Twitter</td>\n",
       "      <td>75.0</td>\n",
       "      <td>3.0</td>\n",
       "      <td>33.0</td>\n",
       "      <td>18.0</td>\n",
       "      <td>19.0</td>\n",
       "      <td>Anger</td>\n",
       "    </tr>\n",
       "    <tr>\n",
       "      <th>252</th>\n",
       "      <td>253</td>\n",
       "      <td>Non-binary</td>\n",
       "      <td>29</td>\n",
       "      <td>Facebook</td>\n",
       "      <td>85.0</td>\n",
       "      <td>2.0</td>\n",
       "      <td>27.0</td>\n",
       "      <td>9.0</td>\n",
       "      <td>20.0</td>\n",
       "      <td>Neutral</td>\n",
       "    </tr>\n",
       "    <tr>\n",
       "      <th>253</th>\n",
       "      <td>254</td>\n",
       "      <td>Female</td>\n",
       "      <td>33</td>\n",
       "      <td>Instagram</td>\n",
       "      <td>145.0</td>\n",
       "      <td>4.0</td>\n",
       "      <td>65.0</td>\n",
       "      <td>23.0</td>\n",
       "      <td>35.0</td>\n",
       "      <td>Sadness</td>\n",
       "    </tr>\n",
       "    <tr>\n",
       "      <th>254</th>\n",
       "      <td>255</td>\n",
       "      <td>Male</td>\n",
       "      <td>31</td>\n",
       "      <td>LinkedIn</td>\n",
       "      <td>60.0</td>\n",
       "      <td>1.0</td>\n",
       "      <td>15.0</td>\n",
       "      <td>7.0</td>\n",
       "      <td>17.0</td>\n",
       "      <td>Anxiety</td>\n",
       "    </tr>\n",
       "    <tr>\n",
       "      <th>...</th>\n",
       "      <td>...</td>\n",
       "      <td>...</td>\n",
       "      <td>...</td>\n",
       "      <td>...</td>\n",
       "      <td>...</td>\n",
       "      <td>...</td>\n",
       "      <td>...</td>\n",
       "      <td>...</td>\n",
       "      <td>...</td>\n",
       "      <td>...</td>\n",
       "    </tr>\n",
       "    <tr>\n",
       "      <th>784</th>\n",
       "      <td>784</td>\n",
       "      <td>Male</td>\n",
       "      <td>22</td>\n",
       "      <td>Twitter</td>\n",
       "      <td>70.0</td>\n",
       "      <td>1.0</td>\n",
       "      <td>22.0</td>\n",
       "      <td>7.0</td>\n",
       "      <td>22.0</td>\n",
       "      <td>Neutral</td>\n",
       "    </tr>\n",
       "    <tr>\n",
       "      <th>785</th>\n",
       "      <td>785</td>\n",
       "      <td>Non-binary</td>\n",
       "      <td>29</td>\n",
       "      <td>Facebook</td>\n",
       "      <td>75.0</td>\n",
       "      <td>2.0</td>\n",
       "      <td>20.0</td>\n",
       "      <td>8.0</td>\n",
       "      <td>20.0</td>\n",
       "      <td>Boredom</td>\n",
       "    </tr>\n",
       "    <tr>\n",
       "      <th>786</th>\n",
       "      <td>786</td>\n",
       "      <td>Female</td>\n",
       "      <td>28</td>\n",
       "      <td>Whatsapp</td>\n",
       "      <td>100.0</td>\n",
       "      <td>4.0</td>\n",
       "      <td>37.0</td>\n",
       "      <td>14.0</td>\n",
       "      <td>26.0</td>\n",
       "      <td>Anxiety</td>\n",
       "    </tr>\n",
       "    <tr>\n",
       "      <th>787</th>\n",
       "      <td>787</td>\n",
       "      <td>Male</td>\n",
       "      <td>31</td>\n",
       "      <td>Telegram</td>\n",
       "      <td>85.0</td>\n",
       "      <td>3.0</td>\n",
       "      <td>45.0</td>\n",
       "      <td>20.0</td>\n",
       "      <td>28.0</td>\n",
       "      <td>Sadness</td>\n",
       "    </tr>\n",
       "    <tr>\n",
       "      <th>788</th>\n",
       "      <td>788</td>\n",
       "      <td>Non-binary</td>\n",
       "      <td>21</td>\n",
       "      <td>Snapchat</td>\n",
       "      <td>60.0</td>\n",
       "      <td>1.0</td>\n",
       "      <td>18.0</td>\n",
       "      <td>7.0</td>\n",
       "      <td>12.0</td>\n",
       "      <td>Neutral</td>\n",
       "    </tr>\n",
       "  </tbody>\n",
       "</table>\n",
       "<p>76 rows × 10 columns</p>\n",
       "</div>"
      ],
      "text/plain": [
       "     User_ID         Age Gender   Platform  Daily_Usage_Time (minutes)  \\\n",
       "250      251        Male     27  Instagram                       165.0   \n",
       "251      252      Female     24    Twitter                        75.0   \n",
       "252      253  Non-binary     29   Facebook                        85.0   \n",
       "253      254      Female     33  Instagram                       145.0   \n",
       "254      255        Male     31   LinkedIn                        60.0   \n",
       "..       ...         ...    ...        ...                         ...   \n",
       "784      784        Male     22    Twitter                        70.0   \n",
       "785      785  Non-binary     29   Facebook                        75.0   \n",
       "786      786      Female     28   Whatsapp                       100.0   \n",
       "787      787        Male     31   Telegram                        85.0   \n",
       "788      788  Non-binary     21   Snapchat                        60.0   \n",
       "\n",
       "     Posts_Per_Day  Likes_Received_Per_Day  Comments_Received_Per_Day  \\\n",
       "250            6.0                    85.0                       30.0   \n",
       "251            3.0                    33.0                       18.0   \n",
       "252            2.0                    27.0                        9.0   \n",
       "253            4.0                    65.0                       23.0   \n",
       "254            1.0                    15.0                        7.0   \n",
       "..             ...                     ...                        ...   \n",
       "784            1.0                    22.0                        7.0   \n",
       "785            2.0                    20.0                        8.0   \n",
       "786            4.0                    37.0                       14.0   \n",
       "787            3.0                    45.0                       20.0   \n",
       "788            1.0                    18.0                        7.0   \n",
       "\n",
       "     Messages_Sent_Per_Day Dominant_Emotion  \n",
       "250                   28.0        Happiness  \n",
       "251                   19.0            Anger  \n",
       "252                   20.0          Neutral  \n",
       "253                   35.0          Sadness  \n",
       "254                   17.0          Anxiety  \n",
       "..                     ...              ...  \n",
       "784                   22.0          Neutral  \n",
       "785                   20.0          Boredom  \n",
       "786                   26.0          Anxiety  \n",
       "787                   28.0          Sadness  \n",
       "788                   12.0          Neutral  \n",
       "\n",
       "[76 rows x 10 columns]"
      ]
     },
     "execution_count": 21,
     "metadata": {},
     "output_type": "execute_result"
    }
   ],
   "source": [
    "wrongVals"
   ]
  },
  {
   "cell_type": "code",
   "execution_count": 22,
   "id": "a990e2de-a2d5-43ed-8b5d-972079f385ec",
   "metadata": {},
   "outputs": [
    {
     "name": "stderr",
     "output_type": "stream",
     "text": [
      "/var/folders/8c/wmx2lppx51j_6rsjq4hty9y80000gn/T/ipykernel_65960/3007448175.py:1: SettingWithCopyWarning: \n",
      "A value is trying to be set on a copy of a slice from a DataFrame.\n",
      "Try using .loc[row_indexer,col_indexer] = value instead\n",
      "\n",
      "See the caveats in the documentation: https://pandas.pydata.org/pandas-docs/stable/user_guide/indexing.html#returning-a-view-versus-a-copy\n",
      "  df2['Daily_Usage_Time (minutes)'] = df2['Daily_Usage_Time (minutes)'].fillna(0).astype(int)\n"
     ]
    }
   ],
   "source": [
    "df2['Daily_Usage_Time (minutes)'] = df2['Daily_Usage_Time (minutes)'].fillna(0).astype(int)  "
   ]
  },
  {
   "cell_type": "code",
   "execution_count": 23,
   "id": "284e5714-2e0f-4cf7-a6e9-1e8c73146cbf",
   "metadata": {},
   "outputs": [],
   "source": [
    "df = pd.concat([df1,df2])"
   ]
  },
  {
   "cell_type": "code",
   "execution_count": 24,
   "id": "c991b78f-db7d-4b37-8ac4-c9d5ec1ece29",
   "metadata": {},
   "outputs": [
    {
     "data": {
      "text/html": [
       "<div>\n",
       "<style scoped>\n",
       "    .dataframe tbody tr th:only-of-type {\n",
       "        vertical-align: middle;\n",
       "    }\n",
       "\n",
       "    .dataframe tbody tr th {\n",
       "        vertical-align: top;\n",
       "    }\n",
       "\n",
       "    .dataframe thead th {\n",
       "        text-align: right;\n",
       "    }\n",
       "</style>\n",
       "<table border=\"1\" class=\"dataframe\">\n",
       "  <thead>\n",
       "    <tr style=\"text-align: right;\">\n",
       "      <th></th>\n",
       "      <th>User_ID</th>\n",
       "      <th>Age</th>\n",
       "      <th>Gender</th>\n",
       "      <th>Platform</th>\n",
       "      <th>Daily_Usage_Time (minutes)</th>\n",
       "      <th>Posts_Per_Day</th>\n",
       "      <th>Likes_Received_Per_Day</th>\n",
       "      <th>Comments_Received_Per_Day</th>\n",
       "      <th>Messages_Sent_Per_Day</th>\n",
       "      <th>Dominant_Emotion</th>\n",
       "    </tr>\n",
       "  </thead>\n",
       "  <tbody>\n",
       "    <tr>\n",
       "      <th>0</th>\n",
       "      <td>500</td>\n",
       "      <td>27</td>\n",
       "      <td>Female</td>\n",
       "      <td>Snapchat</td>\n",
       "      <td>120</td>\n",
       "      <td>4.0</td>\n",
       "      <td>40.0</td>\n",
       "      <td>18.0</td>\n",
       "      <td>22.0</td>\n",
       "      <td>Neutral</td>\n",
       "    </tr>\n",
       "    <tr>\n",
       "      <th>1</th>\n",
       "      <td>488</td>\n",
       "      <td>21</td>\n",
       "      <td>Non-binary</td>\n",
       "      <td>Snapchat</td>\n",
       "      <td>60</td>\n",
       "      <td>1.0</td>\n",
       "      <td>18.0</td>\n",
       "      <td>7.0</td>\n",
       "      <td>12.0</td>\n",
       "      <td>Neutral</td>\n",
       "    </tr>\n",
       "    <tr>\n",
       "      <th>2</th>\n",
       "      <td>776</td>\n",
       "      <td>28</td>\n",
       "      <td>Non-binary</td>\n",
       "      <td>Snapchat</td>\n",
       "      <td>115</td>\n",
       "      <td>3.0</td>\n",
       "      <td>38.0</td>\n",
       "      <td>18.0</td>\n",
       "      <td>27.0</td>\n",
       "      <td>Anxiety</td>\n",
       "    </tr>\n",
       "    <tr>\n",
       "      <th>3</th>\n",
       "      <td>869</td>\n",
       "      <td>27</td>\n",
       "      <td>Male</td>\n",
       "      <td>Telegram</td>\n",
       "      <td>105</td>\n",
       "      <td>3.0</td>\n",
       "      <td>48.0</td>\n",
       "      <td>20.0</td>\n",
       "      <td>28.0</td>\n",
       "      <td>Anxiety</td>\n",
       "    </tr>\n",
       "    <tr>\n",
       "      <th>4</th>\n",
       "      <td>573</td>\n",
       "      <td>21</td>\n",
       "      <td>Non-binary</td>\n",
       "      <td>Facebook</td>\n",
       "      <td>55</td>\n",
       "      <td>3.0</td>\n",
       "      <td>17.0</td>\n",
       "      <td>7.0</td>\n",
       "      <td>12.0</td>\n",
       "      <td>Neutral</td>\n",
       "    </tr>\n",
       "    <tr>\n",
       "      <th>...</th>\n",
       "      <td>...</td>\n",
       "      <td>...</td>\n",
       "      <td>...</td>\n",
       "      <td>...</td>\n",
       "      <td>...</td>\n",
       "      <td>...</td>\n",
       "      <td>...</td>\n",
       "      <td>...</td>\n",
       "      <td>...</td>\n",
       "      <td>...</td>\n",
       "    </tr>\n",
       "    <tr>\n",
       "      <th>996</th>\n",
       "      <td>996</td>\n",
       "      <td>33</td>\n",
       "      <td>Non-binary</td>\n",
       "      <td>Twitter</td>\n",
       "      <td>85</td>\n",
       "      <td>4.0</td>\n",
       "      <td>35.0</td>\n",
       "      <td>18.0</td>\n",
       "      <td>18.0</td>\n",
       "      <td>Boredom</td>\n",
       "    </tr>\n",
       "    <tr>\n",
       "      <th>997</th>\n",
       "      <td>997</td>\n",
       "      <td>22</td>\n",
       "      <td>Female</td>\n",
       "      <td>Facebook</td>\n",
       "      <td>70</td>\n",
       "      <td>1.0</td>\n",
       "      <td>14.0</td>\n",
       "      <td>6.0</td>\n",
       "      <td>10.0</td>\n",
       "      <td>Neutral</td>\n",
       "    </tr>\n",
       "    <tr>\n",
       "      <th>998</th>\n",
       "      <td>998</td>\n",
       "      <td>35</td>\n",
       "      <td>Male</td>\n",
       "      <td>Whatsapp</td>\n",
       "      <td>110</td>\n",
       "      <td>3.0</td>\n",
       "      <td>50.0</td>\n",
       "      <td>25.0</td>\n",
       "      <td>25.0</td>\n",
       "      <td>Happiness</td>\n",
       "    </tr>\n",
       "    <tr>\n",
       "      <th>999</th>\n",
       "      <td>999</td>\n",
       "      <td>28</td>\n",
       "      <td>Non-binary</td>\n",
       "      <td>Telegram</td>\n",
       "      <td>60</td>\n",
       "      <td>2.0</td>\n",
       "      <td>18.0</td>\n",
       "      <td>8.0</td>\n",
       "      <td>18.0</td>\n",
       "      <td>Anger</td>\n",
       "    </tr>\n",
       "    <tr>\n",
       "      <th>1000</th>\n",
       "      <td>1000</td>\n",
       "      <td>27</td>\n",
       "      <td>Female</td>\n",
       "      <td>Snapchat</td>\n",
       "      <td>120</td>\n",
       "      <td>4.0</td>\n",
       "      <td>40.0</td>\n",
       "      <td>18.0</td>\n",
       "      <td>22.0</td>\n",
       "      <td>Neutral</td>\n",
       "    </tr>\n",
       "  </tbody>\n",
       "</table>\n",
       "<p>1103 rows × 10 columns</p>\n",
       "</div>"
      ],
      "text/plain": [
       "      User_ID Age      Gender  Platform  Daily_Usage_Time (minutes)  \\\n",
       "0         500  27      Female  Snapchat                         120   \n",
       "1         488  21  Non-binary  Snapchat                          60   \n",
       "2         776  28  Non-binary  Snapchat                         115   \n",
       "3         869  27        Male  Telegram                         105   \n",
       "4         573  21  Non-binary  Facebook                          55   \n",
       "...       ...  ..         ...       ...                         ...   \n",
       "996       996  33  Non-binary   Twitter                          85   \n",
       "997       997  22      Female  Facebook                          70   \n",
       "998       998  35        Male  Whatsapp                         110   \n",
       "999       999  28  Non-binary  Telegram                          60   \n",
       "1000     1000  27      Female  Snapchat                         120   \n",
       "\n",
       "      Posts_Per_Day  Likes_Received_Per_Day  Comments_Received_Per_Day  \\\n",
       "0               4.0                    40.0                       18.0   \n",
       "1               1.0                    18.0                        7.0   \n",
       "2               3.0                    38.0                       18.0   \n",
       "3               3.0                    48.0                       20.0   \n",
       "4               3.0                    17.0                        7.0   \n",
       "...             ...                     ...                        ...   \n",
       "996             4.0                    35.0                       18.0   \n",
       "997             1.0                    14.0                        6.0   \n",
       "998             3.0                    50.0                       25.0   \n",
       "999             2.0                    18.0                        8.0   \n",
       "1000            4.0                    40.0                       18.0   \n",
       "\n",
       "      Messages_Sent_Per_Day Dominant_Emotion  \n",
       "0                      22.0          Neutral  \n",
       "1                      12.0          Neutral  \n",
       "2                      27.0          Anxiety  \n",
       "3                      28.0          Anxiety  \n",
       "4                      12.0          Neutral  \n",
       "...                     ...              ...  \n",
       "996                    18.0          Boredom  \n",
       "997                    10.0          Neutral  \n",
       "998                    25.0        Happiness  \n",
       "999                    18.0            Anger  \n",
       "1000                   22.0          Neutral  \n",
       "\n",
       "[1103 rows x 10 columns]"
      ]
     },
     "execution_count": 24,
     "metadata": {},
     "output_type": "execute_result"
    }
   ],
   "source": [
    "df"
   ]
  },
  {
   "cell_type": "code",
   "execution_count": 25,
   "id": "ad043454-19d0-4811-ae49-9f7ee822c313",
   "metadata": {},
   "outputs": [
    {
     "data": {
      "text/plain": [
       "User_ID                         int64\n",
       "Age                            object\n",
       "Gender                         object\n",
       "Platform                       object\n",
       "Daily_Usage_Time (minutes)      int64\n",
       "Posts_Per_Day                 float64\n",
       "Likes_Received_Per_Day        float64\n",
       "Comments_Received_Per_Day     float64\n",
       "Messages_Sent_Per_Day         float64\n",
       "Dominant_Emotion               object\n",
       "dtype: object"
      ]
     },
     "execution_count": 25,
     "metadata": {},
     "output_type": "execute_result"
    }
   ],
   "source": [
    "df.dtypes"
   ]
  },
  {
   "cell_type": "code",
   "execution_count": 26,
   "id": "f280bd67-7d8d-406b-b39a-7c82169a6647",
   "metadata": {},
   "outputs": [
    {
     "data": {
      "text/html": [
       "<div>\n",
       "<style scoped>\n",
       "    .dataframe tbody tr th:only-of-type {\n",
       "        vertical-align: middle;\n",
       "    }\n",
       "\n",
       "    .dataframe tbody tr th {\n",
       "        vertical-align: top;\n",
       "    }\n",
       "\n",
       "    .dataframe thead th {\n",
       "        text-align: right;\n",
       "    }\n",
       "</style>\n",
       "<table border=\"1\" class=\"dataframe\">\n",
       "  <thead>\n",
       "    <tr style=\"text-align: right;\">\n",
       "      <th></th>\n",
       "      <th>User_ID</th>\n",
       "      <th>Age</th>\n",
       "      <th>Gender</th>\n",
       "      <th>Platform</th>\n",
       "      <th>Daily_Usage_Time (minutes)</th>\n",
       "      <th>Posts_Per_Day</th>\n",
       "      <th>Likes_Received_Per_Day</th>\n",
       "      <th>Comments_Received_Per_Day</th>\n",
       "      <th>Messages_Sent_Per_Day</th>\n",
       "      <th>Dominant_Emotion</th>\n",
       "    </tr>\n",
       "  </thead>\n",
       "  <tbody>\n",
       "  </tbody>\n",
       "</table>\n",
       "</div>"
      ],
      "text/plain": [
       "Empty DataFrame\n",
       "Columns: [User_ID, Age, Gender, Platform, Daily_Usage_Time (minutes), Posts_Per_Day, Likes_Received_Per_Day, Comments_Received_Per_Day, Messages_Sent_Per_Day, Dominant_Emotion]\n",
       "Index: []"
      ]
     },
     "execution_count": 26,
     "metadata": {},
     "output_type": "execute_result"
    }
   ],
   "source": [
    "df[df.isna().any(axis=1)]"
   ]
  },
  {
   "cell_type": "code",
   "execution_count": 27,
   "id": "f87ce638-e291-410c-bc52-1fcb7e0ed831",
   "metadata": {},
   "outputs": [
    {
     "data": {
      "text/plain": [
       "(1103, 10)"
      ]
     },
     "execution_count": 27,
     "metadata": {},
     "output_type": "execute_result"
    }
   ],
   "source": [
    "df.shape"
   ]
  },
  {
   "cell_type": "code",
   "execution_count": 28,
   "id": "35a90eab-4ad5-4af1-840d-9f98ba641af4",
   "metadata": {},
   "outputs": [
    {
     "data": {
      "text/plain": [
       "0       False\n",
       "1       False\n",
       "2       False\n",
       "3       False\n",
       "4       False\n",
       "        ...  \n",
       "996     False\n",
       "997     False\n",
       "998     False\n",
       "999     False\n",
       "1000    False\n",
       "Name: Gender, Length: 1103, dtype: bool"
      ]
     },
     "execution_count": 28,
     "metadata": {},
     "output_type": "execute_result"
    }
   ],
   "source": [
    "wrongGender = df['Gender'].isin(['Male','Female','Non-binary']) == False\n",
    "wrongGender"
   ]
  },
  {
   "cell_type": "code",
   "execution_count": 29,
   "id": "5acc22d6-b015-40a0-baab-8353a6a8a9ba",
   "metadata": {},
   "outputs": [
    {
     "data": {
      "text/html": [
       "<div>\n",
       "<style scoped>\n",
       "    .dataframe tbody tr th:only-of-type {\n",
       "        vertical-align: middle;\n",
       "    }\n",
       "\n",
       "    .dataframe tbody tr th {\n",
       "        vertical-align: top;\n",
       "    }\n",
       "\n",
       "    .dataframe thead th {\n",
       "        text-align: right;\n",
       "    }\n",
       "</style>\n",
       "<table border=\"1\" class=\"dataframe\">\n",
       "  <thead>\n",
       "    <tr style=\"text-align: right;\">\n",
       "      <th></th>\n",
       "      <th>User_ID</th>\n",
       "      <th>Age</th>\n",
       "      <th>Gender</th>\n",
       "      <th>Platform</th>\n",
       "      <th>Daily_Usage_Time (minutes)</th>\n",
       "      <th>Posts_Per_Day</th>\n",
       "      <th>Likes_Received_Per_Day</th>\n",
       "      <th>Comments_Received_Per_Day</th>\n",
       "      <th>Messages_Sent_Per_Day</th>\n",
       "      <th>Dominant_Emotion</th>\n",
       "    </tr>\n",
       "  </thead>\n",
       "  <tbody>\n",
       "    <tr>\n",
       "      <th>46</th>\n",
       "      <td>651</td>\n",
       "      <td>Male</td>\n",
       "      <td>27</td>\n",
       "      <td>Instagram</td>\n",
       "      <td>165</td>\n",
       "      <td>6.0</td>\n",
       "      <td>85.0</td>\n",
       "      <td>30.0</td>\n",
       "      <td>28.0</td>\n",
       "      <td>Happiness</td>\n",
       "    </tr>\n",
       "    <tr>\n",
       "      <th>250</th>\n",
       "      <td>251</td>\n",
       "      <td>Male</td>\n",
       "      <td>27</td>\n",
       "      <td>Instagram</td>\n",
       "      <td>165</td>\n",
       "      <td>6.0</td>\n",
       "      <td>85.0</td>\n",
       "      <td>30.0</td>\n",
       "      <td>28.0</td>\n",
       "      <td>Happiness</td>\n",
       "    </tr>\n",
       "    <tr>\n",
       "      <th>251</th>\n",
       "      <td>252</td>\n",
       "      <td>Female</td>\n",
       "      <td>24</td>\n",
       "      <td>Twitter</td>\n",
       "      <td>75</td>\n",
       "      <td>3.0</td>\n",
       "      <td>33.0</td>\n",
       "      <td>18.0</td>\n",
       "      <td>19.0</td>\n",
       "      <td>Anger</td>\n",
       "    </tr>\n",
       "    <tr>\n",
       "      <th>252</th>\n",
       "      <td>253</td>\n",
       "      <td>Non-binary</td>\n",
       "      <td>29</td>\n",
       "      <td>Facebook</td>\n",
       "      <td>85</td>\n",
       "      <td>2.0</td>\n",
       "      <td>27.0</td>\n",
       "      <td>9.0</td>\n",
       "      <td>20.0</td>\n",
       "      <td>Neutral</td>\n",
       "    </tr>\n",
       "    <tr>\n",
       "      <th>253</th>\n",
       "      <td>254</td>\n",
       "      <td>Female</td>\n",
       "      <td>33</td>\n",
       "      <td>Instagram</td>\n",
       "      <td>145</td>\n",
       "      <td>4.0</td>\n",
       "      <td>65.0</td>\n",
       "      <td>23.0</td>\n",
       "      <td>35.0</td>\n",
       "      <td>Sadness</td>\n",
       "    </tr>\n",
       "    <tr>\n",
       "      <th>...</th>\n",
       "      <td>...</td>\n",
       "      <td>...</td>\n",
       "      <td>...</td>\n",
       "      <td>...</td>\n",
       "      <td>...</td>\n",
       "      <td>...</td>\n",
       "      <td>...</td>\n",
       "      <td>...</td>\n",
       "      <td>...</td>\n",
       "      <td>...</td>\n",
       "    </tr>\n",
       "    <tr>\n",
       "      <th>784</th>\n",
       "      <td>784</td>\n",
       "      <td>Male</td>\n",
       "      <td>22</td>\n",
       "      <td>Twitter</td>\n",
       "      <td>70</td>\n",
       "      <td>1.0</td>\n",
       "      <td>22.0</td>\n",
       "      <td>7.0</td>\n",
       "      <td>22.0</td>\n",
       "      <td>Neutral</td>\n",
       "    </tr>\n",
       "    <tr>\n",
       "      <th>785</th>\n",
       "      <td>785</td>\n",
       "      <td>Non-binary</td>\n",
       "      <td>29</td>\n",
       "      <td>Facebook</td>\n",
       "      <td>75</td>\n",
       "      <td>2.0</td>\n",
       "      <td>20.0</td>\n",
       "      <td>8.0</td>\n",
       "      <td>20.0</td>\n",
       "      <td>Boredom</td>\n",
       "    </tr>\n",
       "    <tr>\n",
       "      <th>786</th>\n",
       "      <td>786</td>\n",
       "      <td>Female</td>\n",
       "      <td>28</td>\n",
       "      <td>Whatsapp</td>\n",
       "      <td>100</td>\n",
       "      <td>4.0</td>\n",
       "      <td>37.0</td>\n",
       "      <td>14.0</td>\n",
       "      <td>26.0</td>\n",
       "      <td>Anxiety</td>\n",
       "    </tr>\n",
       "    <tr>\n",
       "      <th>787</th>\n",
       "      <td>787</td>\n",
       "      <td>Male</td>\n",
       "      <td>31</td>\n",
       "      <td>Telegram</td>\n",
       "      <td>85</td>\n",
       "      <td>3.0</td>\n",
       "      <td>45.0</td>\n",
       "      <td>20.0</td>\n",
       "      <td>28.0</td>\n",
       "      <td>Sadness</td>\n",
       "    </tr>\n",
       "    <tr>\n",
       "      <th>788</th>\n",
       "      <td>788</td>\n",
       "      <td>Non-binary</td>\n",
       "      <td>21</td>\n",
       "      <td>Snapchat</td>\n",
       "      <td>60</td>\n",
       "      <td>1.0</td>\n",
       "      <td>18.0</td>\n",
       "      <td>7.0</td>\n",
       "      <td>12.0</td>\n",
       "      <td>Neutral</td>\n",
       "    </tr>\n",
       "  </tbody>\n",
       "</table>\n",
       "<p>77 rows × 10 columns</p>\n",
       "</div>"
      ],
      "text/plain": [
       "     User_ID         Age Gender   Platform  Daily_Usage_Time (minutes)  \\\n",
       "46       651        Male     27  Instagram                         165   \n",
       "250      251        Male     27  Instagram                         165   \n",
       "251      252      Female     24    Twitter                          75   \n",
       "252      253  Non-binary     29   Facebook                          85   \n",
       "253      254      Female     33  Instagram                         145   \n",
       "..       ...         ...    ...        ...                         ...   \n",
       "784      784        Male     22    Twitter                          70   \n",
       "785      785  Non-binary     29   Facebook                          75   \n",
       "786      786      Female     28   Whatsapp                         100   \n",
       "787      787        Male     31   Telegram                          85   \n",
       "788      788  Non-binary     21   Snapchat                          60   \n",
       "\n",
       "     Posts_Per_Day  Likes_Received_Per_Day  Comments_Received_Per_Day  \\\n",
       "46             6.0                    85.0                       30.0   \n",
       "250            6.0                    85.0                       30.0   \n",
       "251            3.0                    33.0                       18.0   \n",
       "252            2.0                    27.0                        9.0   \n",
       "253            4.0                    65.0                       23.0   \n",
       "..             ...                     ...                        ...   \n",
       "784            1.0                    22.0                        7.0   \n",
       "785            2.0                    20.0                        8.0   \n",
       "786            4.0                    37.0                       14.0   \n",
       "787            3.0                    45.0                       20.0   \n",
       "788            1.0                    18.0                        7.0   \n",
       "\n",
       "     Messages_Sent_Per_Day Dominant_Emotion  \n",
       "46                    28.0        Happiness  \n",
       "250                   28.0        Happiness  \n",
       "251                   19.0            Anger  \n",
       "252                   20.0          Neutral  \n",
       "253                   35.0          Sadness  \n",
       "..                     ...              ...  \n",
       "784                   22.0          Neutral  \n",
       "785                   20.0          Boredom  \n",
       "786                   26.0          Anxiety  \n",
       "787                   28.0          Sadness  \n",
       "788                   12.0          Neutral  \n",
       "\n",
       "[77 rows x 10 columns]"
      ]
     },
     "execution_count": 29,
     "metadata": {},
     "output_type": "execute_result"
    }
   ],
   "source": [
    "wrongAge = df[(df['Age'] == 'Male') | (df['Age'] == 'Female') | (df['Age'] == 'Non-binary')]\n",
    "wrongAge"
   ]
  },
  {
   "cell_type": "code",
   "execution_count": 30,
   "id": "e814fc48-dda0-4c3b-b305-d1c7bd9d218e",
   "metadata": {},
   "outputs": [],
   "source": [
    "df.loc[wrongGender, ['Age','Gender']] = df.loc[wrongGender, ['Gender','Age']].values"
   ]
  },
  {
   "cell_type": "code",
   "execution_count": 31,
   "id": "446495ca-0fea-4c90-9ed6-70aba542c583",
   "metadata": {},
   "outputs": [
    {
     "data": {
      "text/html": [
       "<div>\n",
       "<style scoped>\n",
       "    .dataframe tbody tr th:only-of-type {\n",
       "        vertical-align: middle;\n",
       "    }\n",
       "\n",
       "    .dataframe tbody tr th {\n",
       "        vertical-align: top;\n",
       "    }\n",
       "\n",
       "    .dataframe thead th {\n",
       "        text-align: right;\n",
       "    }\n",
       "</style>\n",
       "<table border=\"1\" class=\"dataframe\">\n",
       "  <thead>\n",
       "    <tr style=\"text-align: right;\">\n",
       "      <th></th>\n",
       "      <th>index</th>\n",
       "      <th>User_ID</th>\n",
       "      <th>Age</th>\n",
       "      <th>Gender</th>\n",
       "      <th>Platform</th>\n",
       "      <th>Daily_Usage_Time (minutes)</th>\n",
       "      <th>Posts_Per_Day</th>\n",
       "      <th>Likes_Received_Per_Day</th>\n",
       "      <th>Comments_Received_Per_Day</th>\n",
       "      <th>Messages_Sent_Per_Day</th>\n",
       "      <th>Dominant_Emotion</th>\n",
       "    </tr>\n",
       "  </thead>\n",
       "  <tbody>\n",
       "    <tr>\n",
       "      <th>0</th>\n",
       "      <td>0</td>\n",
       "      <td>500</td>\n",
       "      <td>27</td>\n",
       "      <td>Female</td>\n",
       "      <td>Snapchat</td>\n",
       "      <td>120</td>\n",
       "      <td>4.0</td>\n",
       "      <td>40.0</td>\n",
       "      <td>18.0</td>\n",
       "      <td>22.0</td>\n",
       "      <td>Neutral</td>\n",
       "    </tr>\n",
       "    <tr>\n",
       "      <th>1</th>\n",
       "      <td>1</td>\n",
       "      <td>488</td>\n",
       "      <td>21</td>\n",
       "      <td>Non-binary</td>\n",
       "      <td>Snapchat</td>\n",
       "      <td>60</td>\n",
       "      <td>1.0</td>\n",
       "      <td>18.0</td>\n",
       "      <td>7.0</td>\n",
       "      <td>12.0</td>\n",
       "      <td>Neutral</td>\n",
       "    </tr>\n",
       "    <tr>\n",
       "      <th>2</th>\n",
       "      <td>2</td>\n",
       "      <td>776</td>\n",
       "      <td>28</td>\n",
       "      <td>Non-binary</td>\n",
       "      <td>Snapchat</td>\n",
       "      <td>115</td>\n",
       "      <td>3.0</td>\n",
       "      <td>38.0</td>\n",
       "      <td>18.0</td>\n",
       "      <td>27.0</td>\n",
       "      <td>Anxiety</td>\n",
       "    </tr>\n",
       "    <tr>\n",
       "      <th>3</th>\n",
       "      <td>3</td>\n",
       "      <td>869</td>\n",
       "      <td>27</td>\n",
       "      <td>Male</td>\n",
       "      <td>Telegram</td>\n",
       "      <td>105</td>\n",
       "      <td>3.0</td>\n",
       "      <td>48.0</td>\n",
       "      <td>20.0</td>\n",
       "      <td>28.0</td>\n",
       "      <td>Anxiety</td>\n",
       "    </tr>\n",
       "    <tr>\n",
       "      <th>4</th>\n",
       "      <td>4</td>\n",
       "      <td>573</td>\n",
       "      <td>21</td>\n",
       "      <td>Non-binary</td>\n",
       "      <td>Facebook</td>\n",
       "      <td>55</td>\n",
       "      <td>3.0</td>\n",
       "      <td>17.0</td>\n",
       "      <td>7.0</td>\n",
       "      <td>12.0</td>\n",
       "      <td>Neutral</td>\n",
       "    </tr>\n",
       "    <tr>\n",
       "      <th>...</th>\n",
       "      <td>...</td>\n",
       "      <td>...</td>\n",
       "      <td>...</td>\n",
       "      <td>...</td>\n",
       "      <td>...</td>\n",
       "      <td>...</td>\n",
       "      <td>...</td>\n",
       "      <td>...</td>\n",
       "      <td>...</td>\n",
       "      <td>...</td>\n",
       "      <td>...</td>\n",
       "    </tr>\n",
       "    <tr>\n",
       "      <th>1098</th>\n",
       "      <td>996</td>\n",
       "      <td>996</td>\n",
       "      <td>33</td>\n",
       "      <td>Non-binary</td>\n",
       "      <td>Twitter</td>\n",
       "      <td>85</td>\n",
       "      <td>4.0</td>\n",
       "      <td>35.0</td>\n",
       "      <td>18.0</td>\n",
       "      <td>18.0</td>\n",
       "      <td>Boredom</td>\n",
       "    </tr>\n",
       "    <tr>\n",
       "      <th>1099</th>\n",
       "      <td>997</td>\n",
       "      <td>997</td>\n",
       "      <td>22</td>\n",
       "      <td>Female</td>\n",
       "      <td>Facebook</td>\n",
       "      <td>70</td>\n",
       "      <td>1.0</td>\n",
       "      <td>14.0</td>\n",
       "      <td>6.0</td>\n",
       "      <td>10.0</td>\n",
       "      <td>Neutral</td>\n",
       "    </tr>\n",
       "    <tr>\n",
       "      <th>1100</th>\n",
       "      <td>998</td>\n",
       "      <td>998</td>\n",
       "      <td>35</td>\n",
       "      <td>Male</td>\n",
       "      <td>Whatsapp</td>\n",
       "      <td>110</td>\n",
       "      <td>3.0</td>\n",
       "      <td>50.0</td>\n",
       "      <td>25.0</td>\n",
       "      <td>25.0</td>\n",
       "      <td>Happiness</td>\n",
       "    </tr>\n",
       "    <tr>\n",
       "      <th>1101</th>\n",
       "      <td>999</td>\n",
       "      <td>999</td>\n",
       "      <td>28</td>\n",
       "      <td>Non-binary</td>\n",
       "      <td>Telegram</td>\n",
       "      <td>60</td>\n",
       "      <td>2.0</td>\n",
       "      <td>18.0</td>\n",
       "      <td>8.0</td>\n",
       "      <td>18.0</td>\n",
       "      <td>Anger</td>\n",
       "    </tr>\n",
       "    <tr>\n",
       "      <th>1102</th>\n",
       "      <td>1000</td>\n",
       "      <td>1000</td>\n",
       "      <td>27</td>\n",
       "      <td>Female</td>\n",
       "      <td>Snapchat</td>\n",
       "      <td>120</td>\n",
       "      <td>4.0</td>\n",
       "      <td>40.0</td>\n",
       "      <td>18.0</td>\n",
       "      <td>22.0</td>\n",
       "      <td>Neutral</td>\n",
       "    </tr>\n",
       "  </tbody>\n",
       "</table>\n",
       "<p>1103 rows × 11 columns</p>\n",
       "</div>"
      ],
      "text/plain": [
       "      index  User_ID Age      Gender  Platform  Daily_Usage_Time (minutes)  \\\n",
       "0         0      500  27      Female  Snapchat                         120   \n",
       "1         1      488  21  Non-binary  Snapchat                          60   \n",
       "2         2      776  28  Non-binary  Snapchat                         115   \n",
       "3         3      869  27        Male  Telegram                         105   \n",
       "4         4      573  21  Non-binary  Facebook                          55   \n",
       "...     ...      ...  ..         ...       ...                         ...   \n",
       "1098    996      996  33  Non-binary   Twitter                          85   \n",
       "1099    997      997  22      Female  Facebook                          70   \n",
       "1100    998      998  35        Male  Whatsapp                         110   \n",
       "1101    999      999  28  Non-binary  Telegram                          60   \n",
       "1102   1000     1000  27      Female  Snapchat                         120   \n",
       "\n",
       "      Posts_Per_Day  Likes_Received_Per_Day  Comments_Received_Per_Day  \\\n",
       "0               4.0                    40.0                       18.0   \n",
       "1               1.0                    18.0                        7.0   \n",
       "2               3.0                    38.0                       18.0   \n",
       "3               3.0                    48.0                       20.0   \n",
       "4               3.0                    17.0                        7.0   \n",
       "...             ...                     ...                        ...   \n",
       "1098            4.0                    35.0                       18.0   \n",
       "1099            1.0                    14.0                        6.0   \n",
       "1100            3.0                    50.0                       25.0   \n",
       "1101            2.0                    18.0                        8.0   \n",
       "1102            4.0                    40.0                       18.0   \n",
       "\n",
       "      Messages_Sent_Per_Day Dominant_Emotion  \n",
       "0                      22.0          Neutral  \n",
       "1                      12.0          Neutral  \n",
       "2                      27.0          Anxiety  \n",
       "3                      28.0          Anxiety  \n",
       "4                      12.0          Neutral  \n",
       "...                     ...              ...  \n",
       "1098                   18.0          Boredom  \n",
       "1099                   10.0          Neutral  \n",
       "1100                   25.0        Happiness  \n",
       "1101                   18.0            Anger  \n",
       "1102                   22.0          Neutral  \n",
       "\n",
       "[1103 rows x 11 columns]"
      ]
     },
     "execution_count": 31,
     "metadata": {},
     "output_type": "execute_result"
    }
   ],
   "source": [
    "df.reset_index()"
   ]
  },
  {
   "cell_type": "code",
   "execution_count": 32,
   "id": "3df77bfa-e99c-4a4e-8523-43602b0f7bc7",
   "metadata": {},
   "outputs": [
    {
     "data": {
      "text/html": [
       "<div>\n",
       "<style scoped>\n",
       "    .dataframe tbody tr th:only-of-type {\n",
       "        vertical-align: middle;\n",
       "    }\n",
       "\n",
       "    .dataframe tbody tr th {\n",
       "        vertical-align: top;\n",
       "    }\n",
       "\n",
       "    .dataframe thead th {\n",
       "        text-align: right;\n",
       "    }\n",
       "</style>\n",
       "<table border=\"1\" class=\"dataframe\">\n",
       "  <thead>\n",
       "    <tr style=\"text-align: right;\">\n",
       "      <th></th>\n",
       "      <th>User_ID</th>\n",
       "      <th>Age</th>\n",
       "      <th>Gender</th>\n",
       "      <th>Platform</th>\n",
       "      <th>Daily_Usage_Time (minutes)</th>\n",
       "      <th>Posts_Per_Day</th>\n",
       "      <th>Likes_Received_Per_Day</th>\n",
       "      <th>Comments_Received_Per_Day</th>\n",
       "      <th>Messages_Sent_Per_Day</th>\n",
       "      <th>Dominant_Emotion</th>\n",
       "    </tr>\n",
       "  </thead>\n",
       "  <tbody>\n",
       "    <tr>\n",
       "      <th>79</th>\n",
       "      <td>849</td>\n",
       "      <td>Marie</td>\n",
       "      <td>32</td>\n",
       "      <td>Instagram</td>\n",
       "      <td>130</td>\n",
       "      <td>5.0</td>\n",
       "      <td>80.0</td>\n",
       "      <td>28.0</td>\n",
       "      <td>31.0</td>\n",
       "      <td>Neutral</td>\n",
       "    </tr>\n",
       "  </tbody>\n",
       "</table>\n",
       "</div>"
      ],
      "text/plain": [
       "    User_ID    Age Gender   Platform  Daily_Usage_Time (minutes)  \\\n",
       "79      849  Marie     32  Instagram                         130   \n",
       "\n",
       "    Posts_Per_Day  Likes_Received_Per_Day  Comments_Received_Per_Day  \\\n",
       "79            5.0                    80.0                       28.0   \n",
       "\n",
       "    Messages_Sent_Per_Day Dominant_Emotion  \n",
       "79                   31.0          Neutral  "
      ]
     },
     "execution_count": 32,
     "metadata": {},
     "output_type": "execute_result"
    }
   ],
   "source": [
    "df[df['Age'] == 'Marie']"
   ]
  },
  {
   "cell_type": "code",
   "execution_count": 33,
   "id": "c7c127b4-7e4f-46c3-8a83-a91219813b1b",
   "metadata": {},
   "outputs": [],
   "source": [
    "df = df.drop(79).reset_index()"
   ]
  },
  {
   "cell_type": "code",
   "execution_count": 34,
   "id": "3bb221ea-a635-4181-ad52-01a69e586a0b",
   "metadata": {},
   "outputs": [
    {
     "data": {
      "text/plain": [
       "(1101, 11)"
      ]
     },
     "execution_count": 34,
     "metadata": {},
     "output_type": "execute_result"
    }
   ],
   "source": [
    "df.shape"
   ]
  },
  {
   "cell_type": "code",
   "execution_count": 35,
   "id": "a450145d-89a5-45cb-b602-9a7910222128",
   "metadata": {},
   "outputs": [
    {
     "data": {
      "text/plain": [
       "Age\n",
       "28    113\n",
       "27    112\n",
       "29    110\n",
       "22     84\n",
       "31     80\n",
       "26     78\n",
       "25     76\n",
       "24     76\n",
       "21     65\n",
       "33     63\n",
       "23     61\n",
       "30     53\n",
       "32     44\n",
       "35     43\n",
       "34     43\n",
       "Name: count, dtype: int64"
      ]
     },
     "execution_count": 35,
     "metadata": {},
     "output_type": "execute_result"
    }
   ],
   "source": [
    "df['Age'].value_counts()"
   ]
  },
  {
   "cell_type": "code",
   "execution_count": 36,
   "id": "d5350207-6149-49b1-89c1-a11d9913b6ad",
   "metadata": {},
   "outputs": [
    {
     "data": {
      "text/plain": [
       "Gender\n",
       "Male          407\n",
       "Female        394\n",
       "Non-binary    300\n",
       "Name: count, dtype: int64"
      ]
     },
     "execution_count": 36,
     "metadata": {},
     "output_type": "execute_result"
    }
   ],
   "source": [
    "df['Gender'].value_counts()"
   ]
  },
  {
   "cell_type": "code",
   "execution_count": 37,
   "id": "6ccb210b-464d-41b0-a30e-21decff19a58",
   "metadata": {},
   "outputs": [],
   "source": [
    "df = df.drop('index', axis=1)"
   ]
  },
  {
   "cell_type": "code",
   "execution_count": 38,
   "id": "1c9bbdc1-aadf-48a6-9313-c80ebf3b0d7a",
   "metadata": {},
   "outputs": [
    {
     "data": {
      "text/html": [
       "<div>\n",
       "<style scoped>\n",
       "    .dataframe tbody tr th:only-of-type {\n",
       "        vertical-align: middle;\n",
       "    }\n",
       "\n",
       "    .dataframe tbody tr th {\n",
       "        vertical-align: top;\n",
       "    }\n",
       "\n",
       "    .dataframe thead th {\n",
       "        text-align: right;\n",
       "    }\n",
       "</style>\n",
       "<table border=\"1\" class=\"dataframe\">\n",
       "  <thead>\n",
       "    <tr style=\"text-align: right;\">\n",
       "      <th></th>\n",
       "      <th>User_ID</th>\n",
       "      <th>Age</th>\n",
       "      <th>Gender</th>\n",
       "      <th>Platform</th>\n",
       "      <th>Daily_Usage_Time (minutes)</th>\n",
       "      <th>Posts_Per_Day</th>\n",
       "      <th>Likes_Received_Per_Day</th>\n",
       "      <th>Comments_Received_Per_Day</th>\n",
       "      <th>Messages_Sent_Per_Day</th>\n",
       "      <th>Dominant_Emotion</th>\n",
       "    </tr>\n",
       "  </thead>\n",
       "  <tbody>\n",
       "    <tr>\n",
       "      <th>0</th>\n",
       "      <td>500</td>\n",
       "      <td>27</td>\n",
       "      <td>Female</td>\n",
       "      <td>Snapchat</td>\n",
       "      <td>120</td>\n",
       "      <td>4.0</td>\n",
       "      <td>40.0</td>\n",
       "      <td>18.0</td>\n",
       "      <td>22.0</td>\n",
       "      <td>Neutral</td>\n",
       "    </tr>\n",
       "    <tr>\n",
       "      <th>1</th>\n",
       "      <td>488</td>\n",
       "      <td>21</td>\n",
       "      <td>Non-binary</td>\n",
       "      <td>Snapchat</td>\n",
       "      <td>60</td>\n",
       "      <td>1.0</td>\n",
       "      <td>18.0</td>\n",
       "      <td>7.0</td>\n",
       "      <td>12.0</td>\n",
       "      <td>Neutral</td>\n",
       "    </tr>\n",
       "    <tr>\n",
       "      <th>2</th>\n",
       "      <td>776</td>\n",
       "      <td>28</td>\n",
       "      <td>Non-binary</td>\n",
       "      <td>Snapchat</td>\n",
       "      <td>115</td>\n",
       "      <td>3.0</td>\n",
       "      <td>38.0</td>\n",
       "      <td>18.0</td>\n",
       "      <td>27.0</td>\n",
       "      <td>Anxiety</td>\n",
       "    </tr>\n",
       "    <tr>\n",
       "      <th>3</th>\n",
       "      <td>869</td>\n",
       "      <td>27</td>\n",
       "      <td>Male</td>\n",
       "      <td>Telegram</td>\n",
       "      <td>105</td>\n",
       "      <td>3.0</td>\n",
       "      <td>48.0</td>\n",
       "      <td>20.0</td>\n",
       "      <td>28.0</td>\n",
       "      <td>Anxiety</td>\n",
       "    </tr>\n",
       "    <tr>\n",
       "      <th>4</th>\n",
       "      <td>573</td>\n",
       "      <td>21</td>\n",
       "      <td>Non-binary</td>\n",
       "      <td>Facebook</td>\n",
       "      <td>55</td>\n",
       "      <td>3.0</td>\n",
       "      <td>17.0</td>\n",
       "      <td>7.0</td>\n",
       "      <td>12.0</td>\n",
       "      <td>Neutral</td>\n",
       "    </tr>\n",
       "    <tr>\n",
       "      <th>...</th>\n",
       "      <td>...</td>\n",
       "      <td>...</td>\n",
       "      <td>...</td>\n",
       "      <td>...</td>\n",
       "      <td>...</td>\n",
       "      <td>...</td>\n",
       "      <td>...</td>\n",
       "      <td>...</td>\n",
       "      <td>...</td>\n",
       "      <td>...</td>\n",
       "    </tr>\n",
       "    <tr>\n",
       "      <th>1096</th>\n",
       "      <td>996</td>\n",
       "      <td>33</td>\n",
       "      <td>Non-binary</td>\n",
       "      <td>Twitter</td>\n",
       "      <td>85</td>\n",
       "      <td>4.0</td>\n",
       "      <td>35.0</td>\n",
       "      <td>18.0</td>\n",
       "      <td>18.0</td>\n",
       "      <td>Boredom</td>\n",
       "    </tr>\n",
       "    <tr>\n",
       "      <th>1097</th>\n",
       "      <td>997</td>\n",
       "      <td>22</td>\n",
       "      <td>Female</td>\n",
       "      <td>Facebook</td>\n",
       "      <td>70</td>\n",
       "      <td>1.0</td>\n",
       "      <td>14.0</td>\n",
       "      <td>6.0</td>\n",
       "      <td>10.0</td>\n",
       "      <td>Neutral</td>\n",
       "    </tr>\n",
       "    <tr>\n",
       "      <th>1098</th>\n",
       "      <td>998</td>\n",
       "      <td>35</td>\n",
       "      <td>Male</td>\n",
       "      <td>Whatsapp</td>\n",
       "      <td>110</td>\n",
       "      <td>3.0</td>\n",
       "      <td>50.0</td>\n",
       "      <td>25.0</td>\n",
       "      <td>25.0</td>\n",
       "      <td>Happiness</td>\n",
       "    </tr>\n",
       "    <tr>\n",
       "      <th>1099</th>\n",
       "      <td>999</td>\n",
       "      <td>28</td>\n",
       "      <td>Non-binary</td>\n",
       "      <td>Telegram</td>\n",
       "      <td>60</td>\n",
       "      <td>2.0</td>\n",
       "      <td>18.0</td>\n",
       "      <td>8.0</td>\n",
       "      <td>18.0</td>\n",
       "      <td>Anger</td>\n",
       "    </tr>\n",
       "    <tr>\n",
       "      <th>1100</th>\n",
       "      <td>1000</td>\n",
       "      <td>27</td>\n",
       "      <td>Female</td>\n",
       "      <td>Snapchat</td>\n",
       "      <td>120</td>\n",
       "      <td>4.0</td>\n",
       "      <td>40.0</td>\n",
       "      <td>18.0</td>\n",
       "      <td>22.0</td>\n",
       "      <td>Neutral</td>\n",
       "    </tr>\n",
       "  </tbody>\n",
       "</table>\n",
       "<p>1101 rows × 10 columns</p>\n",
       "</div>"
      ],
      "text/plain": [
       "      User_ID Age      Gender  Platform  Daily_Usage_Time (minutes)  \\\n",
       "0         500  27      Female  Snapchat                         120   \n",
       "1         488  21  Non-binary  Snapchat                          60   \n",
       "2         776  28  Non-binary  Snapchat                         115   \n",
       "3         869  27        Male  Telegram                         105   \n",
       "4         573  21  Non-binary  Facebook                          55   \n",
       "...       ...  ..         ...       ...                         ...   \n",
       "1096      996  33  Non-binary   Twitter                          85   \n",
       "1097      997  22      Female  Facebook                          70   \n",
       "1098      998  35        Male  Whatsapp                         110   \n",
       "1099      999  28  Non-binary  Telegram                          60   \n",
       "1100     1000  27      Female  Snapchat                         120   \n",
       "\n",
       "      Posts_Per_Day  Likes_Received_Per_Day  Comments_Received_Per_Day  \\\n",
       "0               4.0                    40.0                       18.0   \n",
       "1               1.0                    18.0                        7.0   \n",
       "2               3.0                    38.0                       18.0   \n",
       "3               3.0                    48.0                       20.0   \n",
       "4               3.0                    17.0                        7.0   \n",
       "...             ...                     ...                        ...   \n",
       "1096            4.0                    35.0                       18.0   \n",
       "1097            1.0                    14.0                        6.0   \n",
       "1098            3.0                    50.0                       25.0   \n",
       "1099            2.0                    18.0                        8.0   \n",
       "1100            4.0                    40.0                       18.0   \n",
       "\n",
       "      Messages_Sent_Per_Day Dominant_Emotion  \n",
       "0                      22.0          Neutral  \n",
       "1                      12.0          Neutral  \n",
       "2                      27.0          Anxiety  \n",
       "3                      28.0          Anxiety  \n",
       "4                      12.0          Neutral  \n",
       "...                     ...              ...  \n",
       "1096                   18.0          Boredom  \n",
       "1097                   10.0          Neutral  \n",
       "1098                   25.0        Happiness  \n",
       "1099                   18.0            Anger  \n",
       "1100                   22.0          Neutral  \n",
       "\n",
       "[1101 rows x 10 columns]"
      ]
     },
     "execution_count": 38,
     "metadata": {},
     "output_type": "execute_result"
    }
   ],
   "source": [
    "df"
   ]
  },
  {
   "cell_type": "code",
   "execution_count": 39,
   "id": "e4d71242-6292-435c-997a-bde01d2f10f3",
   "metadata": {},
   "outputs": [
    {
     "data": {
      "text/plain": [
       "Dominant_Emotion\n",
       "Neutral      226\n",
       "Happiness    214\n",
       "Anxiety      192\n",
       "Sadness      174\n",
       "Boredom      156\n",
       "Anger        139\n",
       "Name: count, dtype: int64"
      ]
     },
     "execution_count": 39,
     "metadata": {},
     "output_type": "execute_result"
    }
   ],
   "source": [
    "df['Dominant_Emotion'].value_counts()"
   ]
  },
  {
   "cell_type": "code",
   "execution_count": 40,
   "id": "1d1476fb-ce72-4bb0-8fd2-68243a8a7ab1",
   "metadata": {},
   "outputs": [
    {
     "data": {
      "text/plain": [
       "User_ID  Age    Gender  Platform  Daily_Usage_Time (minutes)  Posts_Per_Day  Likes_Received_Per_Day  Comments_Received_Per_Day  Messages_Sent_Per_Day  Dominant_Emotion\n",
       "False    False  False   False     False                       False          False                   False                      False                  False               1101\n",
       "Name: count, dtype: int64"
      ]
     },
     "execution_count": 40,
     "metadata": {},
     "output_type": "execute_result"
    }
   ],
   "source": [
    "df.isna().value_counts()"
   ]
  },
  {
   "cell_type": "code",
   "execution_count": 41,
   "id": "96e7835c-c2cb-418d-b98d-36cef7f91658",
   "metadata": {},
   "outputs": [
    {
     "data": {
      "text/plain": [
       "40"
      ]
     },
     "execution_count": 41,
     "metadata": {},
     "output_type": "execute_result"
    }
   ],
   "source": [
    "df['Daily_Usage_Time (minutes)'].min()"
   ]
  },
  {
   "cell_type": "code",
   "execution_count": 42,
   "id": "c9d6a9e2-e1eb-4cc0-98a4-b4bac1b79756",
   "metadata": {},
   "outputs": [
    {
     "data": {
      "text/plain": [
       "8.0"
      ]
     },
     "execution_count": 42,
     "metadata": {},
     "output_type": "execute_result"
    }
   ],
   "source": [
    "df['Posts_Per_Day'].max()"
   ]
  },
  {
   "cell_type": "code",
   "execution_count": 43,
   "id": "af7227d6-f3a6-46ca-a090-92e5e31981dd",
   "metadata": {},
   "outputs": [
    {
     "data": {
      "text/plain": [
       "110.0"
      ]
     },
     "execution_count": 43,
     "metadata": {},
     "output_type": "execute_result"
    }
   ],
   "source": [
    "df['Likes_Received_Per_Day'].max()"
   ]
  },
  {
   "cell_type": "code",
   "execution_count": 44,
   "id": "0f407576-2640-4704-b5a6-9a72d44a4238",
   "metadata": {},
   "outputs": [
    {
     "data": {
      "text/plain": [
       "50.0"
      ]
     },
     "execution_count": 44,
     "metadata": {},
     "output_type": "execute_result"
    }
   ],
   "source": [
    "df['Messages_Sent_Per_Day'].max()"
   ]
  },
  {
   "cell_type": "code",
   "execution_count": 45,
   "id": "89c5a691-3d4f-46de-99dc-11d298b2f42e",
   "metadata": {},
   "outputs": [
    {
     "data": {
      "text/plain": [
       "40.0"
      ]
     },
     "execution_count": 45,
     "metadata": {},
     "output_type": "execute_result"
    }
   ],
   "source": [
    "df['Comments_Received_Per_Day'].max()"
   ]
  },
  {
   "cell_type": "code",
   "execution_count": 46,
   "id": "258c5280-6f4d-4d52-867a-000391ed84ef",
   "metadata": {},
   "outputs": [],
   "source": [
    "df['Age'] = df['Age'].astype(int)"
   ]
  },
  {
   "cell_type": "code",
   "execution_count": 47,
   "id": "0f1be13f-4074-4a0d-b9ff-b94b7704552c",
   "metadata": {},
   "outputs": [
    {
     "data": {
      "text/plain": [
       "User_ID                         int64\n",
       "Age                             int64\n",
       "Gender                         object\n",
       "Platform                       object\n",
       "Daily_Usage_Time (minutes)      int64\n",
       "Posts_Per_Day                 float64\n",
       "Likes_Received_Per_Day        float64\n",
       "Comments_Received_Per_Day     float64\n",
       "Messages_Sent_Per_Day         float64\n",
       "Dominant_Emotion               object\n",
       "dtype: object"
      ]
     },
     "execution_count": 47,
     "metadata": {},
     "output_type": "execute_result"
    }
   ],
   "source": [
    "df.dtypes"
   ]
  },
  {
   "cell_type": "code",
   "execution_count": 48,
   "id": "753b7192-c890-4f5e-b372-5784aa2f6cba",
   "metadata": {},
   "outputs": [],
   "source": [
    "df.to_csv('SMMOOD.csv', index = False)"
   ]
  },
  {
   "cell_type": "markdown",
   "id": "758ab9f1-6756-43f2-999a-4df15106b86c",
   "metadata": {},
   "source": [
    "## Data exploration"
   ]
  },
  {
   "cell_type": "code",
   "execution_count": 50,
   "id": "0a971b95-69d0-478e-ba85-2a96381c514d",
   "metadata": {},
   "outputs": [
    {
     "data": {
      "text/plain": [
       "27.493188010899182"
      ]
     },
     "execution_count": 50,
     "metadata": {},
     "output_type": "execute_result"
    }
   ],
   "source": [
    "df['Age'].mean()"
   ]
  },
  {
   "cell_type": "code",
   "execution_count": 142,
   "id": "e513dcd4-96f3-4955-b931-df7a43cb2a7a",
   "metadata": {},
   "outputs": [
    {
     "data": {
      "text/plain": [
       "27.0"
      ]
     },
     "execution_count": 142,
     "metadata": {},
     "output_type": "execute_result"
    }
   ],
   "source": [
    "df['Age'].median()"
   ]
  },
  {
   "cell_type": "code",
   "execution_count": 51,
   "id": "fcc4ea7a-deb5-455c-ae04-b35ef0dc3741",
   "metadata": {},
   "outputs": [
    {
     "data": {
      "text/plain": [
       "95.18165304268847"
      ]
     },
     "execution_count": 51,
     "metadata": {},
     "output_type": "execute_result"
    }
   ],
   "source": [
    "df['Daily_Usage_Time (minutes)'].mean()"
   ]
  },
  {
   "cell_type": "code",
   "execution_count": 52,
   "id": "17e986ec-08ab-44e5-a6f6-c69c8b5c0501",
   "metadata": {},
   "outputs": [
    {
     "data": {
      "text/plain": [
       "3.276112624886467"
      ]
     },
     "execution_count": 52,
     "metadata": {},
     "output_type": "execute_result"
    }
   ],
   "source": [
    "df['Posts_Per_Day'].mean()"
   ]
  },
  {
   "cell_type": "code",
   "execution_count": 53,
   "id": "0ab6f104-16a3-448a-9a89-b9cd404b95b7",
   "metadata": {},
   "outputs": [
    {
     "data": {
      "text/plain": [
       "39.263396911898276"
      ]
     },
     "execution_count": 53,
     "metadata": {},
     "output_type": "execute_result"
    }
   ],
   "source": [
    "df['Likes_Received_Per_Day'].mean()"
   ]
  },
  {
   "cell_type": "code",
   "execution_count": 54,
   "id": "109bbfbb-8169-484a-b17b-9b346793fcef",
   "metadata": {},
   "outputs": [
    {
     "data": {
      "text/plain": [
       "22.35149863760218"
      ]
     },
     "execution_count": 54,
     "metadata": {},
     "output_type": "execute_result"
    }
   ],
   "source": [
    "df['Messages_Sent_Per_Day'].mean()"
   ]
  },
  {
   "cell_type": "code",
   "execution_count": 55,
   "id": "6b54c071-e171-40a9-b597-d6de1ca4ce87",
   "metadata": {},
   "outputs": [
    {
     "data": {
      "text/plain": [
       "15.428701180744778"
      ]
     },
     "execution_count": 55,
     "metadata": {},
     "output_type": "execute_result"
    }
   ],
   "source": [
    "df['Comments_Received_Per_Day'].mean()"
   ]
  },
  {
   "cell_type": "code",
   "execution_count": 56,
   "id": "32ffa4e5-4d6b-4f4e-882e-451ccbb1cb05",
   "metadata": {},
   "outputs": [],
   "source": [
    "df['Dominant_Emotion'].value_counts()\n",
    "vc = df['Dominant_Emotion'].value_counts()"
   ]
  },
  {
   "cell_type": "code",
   "execution_count": 57,
   "id": "94deddb2-3b0f-4f64-9b86-a3044fcfca8f",
   "metadata": {},
   "outputs": [
    {
     "data": {
      "text/plain": [
       "0    Neutral\n",
       "Name: Dominant_Emotion, dtype: object"
      ]
     },
     "execution_count": 57,
     "metadata": {},
     "output_type": "execute_result"
    }
   ],
   "source": [
    "df['Dominant_Emotion'].mode()"
   ]
  },
  {
   "cell_type": "code",
   "execution_count": 58,
   "id": "283423fd-76b0-42ea-84a3-ca9a42faf65e",
   "metadata": {},
   "outputs": [],
   "source": [
    "import matplotlib.pyplot as plt"
   ]
  },
  {
   "cell_type": "code",
   "execution_count": 59,
   "id": "0dba3756-c32f-4220-bca4-7b06a9280164",
   "metadata": {},
   "outputs": [
    {
     "data": {
      "image/png": "[encoded data removed]",
      "text/plain": [
       "<Figure size 640x480 with 1 Axes>"
      ]
     },
     "metadata": {},
     "output_type": "display_data"
    }
   ],
   "source": [
    "plt.boxplot(df['Age'])\n",
    "plt.ylabel('Years')\n",
    "plt.title('Age distribution')\n",
    "plt.show()"
   ]
  },
  {
   "cell_type": "code",
   "execution_count": 60,
   "id": "d8c51bbf-4c39-4fa1-a58d-6c4e453f8b9f",
   "metadata": {},
   "outputs": [
    {
     "data": {
      "image/png": "[encoded data removed]",
      "text/plain": [
       "<Figure size 640x480 with 1 Axes>"
      ]
     },
     "metadata": {},
     "output_type": "display_data"
    }
   ],
   "source": [
    "df.boxplot(column='Age', by='Dominant_Emotion')\n",
    "plt.ylabel('Years')\n",
    "plt.xlabel('Dominate Emotion')\n",
    "plt.title('Age and dominant emotion distribution')\n",
    "plt.show()"
   ]
  },
  {
   "cell_type": "code",
   "execution_count": 61,
   "id": "c2b78af6-c7f6-4343-883e-84b96484408b",
   "metadata": {},
   "outputs": [
    {
     "data": {
      "image/png": "[encoded data removed]",
      "text/plain": [
       "<Figure size 640x480 with 1 Axes>"
      ]
     },
     "metadata": {},
     "output_type": "display_data"
    }
   ],
   "source": [
    "plt.pie(vc, labels=vc.index, autopct='%1.1f%%')\n",
    "plt.title('Dominate emotion chart')\n",
    "plt.show()"
   ]
  },
  {
   "cell_type": "code",
   "execution_count": 62,
   "id": "49330621-c1b2-41b9-a68a-7d47aca06774",
   "metadata": {},
   "outputs": [
    {
     "data": {
      "text/plain": [
       "14"
      ]
     },
     "execution_count": 62,
     "metadata": {},
     "output_type": "execute_result"
    }
   ],
   "source": [
    "df['Age'].max() - df['Age'].min()"
   ]
  },
  {
   "cell_type": "code",
   "execution_count": 63,
   "id": "8a6cebc9-8eb8-4804-a6cb-8d1001965451",
   "metadata": {},
   "outputs": [
    {
     "data": {
      "image/png": "[encoded data removed]",
      "text/plain": [
       "<Figure size 640x480 with 1 Axes>"
      ]
     },
     "metadata": {},
     "output_type": "display_data"
    }
   ],
   "source": [
    "df.boxplot(column='Daily_Usage_Time (minutes)', by='Gender')\n",
    "plt.ylabel('Daily useage (Mins)')\n",
    "plt.xlabel('Gender')\n",
    "plt.title('Gender total social media usage')\n",
    "plt.show()"
   ]
  },
  {
   "cell_type": "code",
   "execution_count": 64,
   "id": "10a1c72a-48c6-4ef3-8134-c09b4a1f07f8",
   "metadata": {},
   "outputs": [
    {
     "data": {
      "text/plain": [
       "Platform\n",
       "Instagram    265\n",
       "Twitter      219\n",
       "Facebook     215\n",
       "LinkedIn     135\n",
       "Snapchat      93\n",
       "Telegram      91\n",
       "Whatsapp      83\n",
       "Name: count, dtype: int64"
      ]
     },
     "execution_count": 64,
     "metadata": {},
     "output_type": "execute_result"
    }
   ],
   "source": [
    "mediaCount = df['Platform'].value_counts()\n",
    "mediaCount"
   ]
  },
  {
   "cell_type": "code",
   "execution_count": 65,
   "id": "6ee2b93b-2d63-49d8-8df1-8b7a6665076e",
   "metadata": {},
   "outputs": [
    {
     "data": {
      "image/png": "[encoded data removed]",
      "text/plain": [
       "<Figure size 640x480 with 1 Axes>"
      ]
     },
     "metadata": {},
     "output_type": "display_data"
    }
   ],
   "source": [
    "plt.pie(mediaCount, labels=mediaCount.index, autopct='%1.1f%%')\n",
    "plt.title('Platform usage chart')\n",
    "plt.show()"
   ]
  },
  {
   "cell_type": "code",
   "execution_count": 66,
   "id": "36cf62fa-384e-4104-a966-e52afc8593ff",
   "metadata": {},
   "outputs": [
    {
     "data": {
      "image/png": "[encoded data removed]",
      "text/plain": [
       "<Figure size 640x480 with 1 Axes>"
      ]
     },
     "metadata": {},
     "output_type": "display_data"
    }
   ],
   "source": [
    "plt.scatter(df['Daily_Usage_Time (minutes)'], df['Messages_Sent_Per_Day'])\n",
    "plt.title('Correlation between daily usage and messages sent')\n",
    "plt.xlabel('Daily usage time (mins)')\n",
    "plt.ylabel('Messages sent per day')\n",
    "plt.show()"
   ]
  },
  {
   "cell_type": "code",
   "execution_count": 67,
   "id": "d04ad19f-4711-432c-ae30-11c5a78e91a8",
   "metadata": {},
   "outputs": [
    {
     "data": {
      "image/png": "[encoded data removed]",
      "text/plain": [
       "<Figure size 640x480 with 1 Axes>"
      ]
     },
     "metadata": {},
     "output_type": "display_data"
    }
   ],
   "source": [
    "plt.bar(df['Platform'],df['Messages_Sent_Per_Day'])\n",
    "plt.title('Correlation between daily usage and messages sent')\n",
    "plt.xlabel('Daily usage time (mins)')\n",
    "plt.ylabel('Messages sent per day')\n",
    "plt.show()"
   ]
  },
  {
   "cell_type": "code",
   "execution_count": 68,
   "id": "d2501cef-6067-4800-916e-e5e7f00a6228",
   "metadata": {},
   "outputs": [
    {
     "data": {
      "image/png": "[encoded data removed]",
      "text/plain": [
       "<Figure size 640x480 with 1 Axes>"
      ]
     },
     "metadata": {},
     "output_type": "display_data"
    }
   ],
   "source": [
    "df.boxplot(column='Daily_Usage_Time (minutes)', by='Dominant_Emotion')\n",
    "plt.title('Dominate emotions and screen time chart')\n",
    "plt.ylabel('Daily usage time (mins)')\n",
    "plt.xlabel('dominate emotions')\n",
    "plt.show()"
   ]
  },
  {
   "cell_type": "code",
   "execution_count": 69,
   "id": "5c7efb6a-a90e-4f22-b6ab-e7aa488d2400",
   "metadata": {},
   "outputs": [
    {
     "data": {
      "image/png": "[encoded data removed]",
      "text/plain": [
       "<Figure size 640x480 with 1 Axes>"
      ]
     },
     "metadata": {},
     "output_type": "display_data"
    }
   ],
   "source": [
    "df.boxplot(column='Likes_Received_Per_Day', by='Dominant_Emotion')\n",
    "plt.title('Dominate emotions and likes recieved per day chart')\n",
    "plt.ylabel('Likes recieved per day')\n",
    "plt.xlabel('dominate emotions')\n",
    "plt.show()"
   ]
  },
  {
   "cell_type": "code",
   "execution_count": 70,
   "id": "ff9838ca-161b-4dd7-be16-ef8c78a1696e",
   "metadata": {},
   "outputs": [
    {
     "data": {
      "image/png": "[encoded data removed]",
      "text/plain": [
       "<Figure size 640x480 with 1 Axes>"
      ]
     },
     "metadata": {},
     "output_type": "display_data"
    }
   ],
   "source": [
    "plt.scatter(df['Daily_Usage_Time (minutes)'], df['Likes_Received_Per_Day'])\n",
    "plt.title('Correlation between daily usage and likes recived per day')\n",
    "plt.xlabel('Daily usage time (mins)')\n",
    "plt.ylabel('Likes recieved per day')\n",
    "plt.show()"
   ]
  },
  {
   "cell_type": "code",
   "execution_count": 71,
   "id": "2e8c46e6-6673-42e3-8e64-128b95a03250",
   "metadata": {},
   "outputs": [
    {
     "data": {
      "image/png": "[encoded data removed]",
      "text/plain": [
       "<Figure size 640x480 with 1 Axes>"
      ]
     },
     "metadata": {},
     "output_type": "display_data"
    }
   ],
   "source": [
    "plt.scatter(df['Comments_Received_Per_Day'], df['Likes_Received_Per_Day'])\n",
    "plt.title('Correlation between Comments and likes recived per day')\n",
    "plt.xlabel('Comments per day)')\n",
    "plt.ylabel('Likes recieved per day')\n",
    "plt.show()"
   ]
  },
  {
   "cell_type": "code",
   "execution_count": null,
   "id": "995b96a0-ea81-4057-9d07-2507cad40572",
   "metadata": {},
   "outputs": [],
   "source": []
  }
 ],
 "metadata": {
  "kernelspec": {
   "display_name": "Python 3 (ipykernel)",
   "language": "python",
   "name": "python3"
  },
  "language_info": {
   "codemirror_mode": {
    "name": "ipython",
    "version": 3
   },
   "file_extension": ".py",
   "mimetype": "text/x-python",
   "name": "python",
   "nbconvert_exporter": "python",
   "pygments_lexer": "ipython3",
   "version": "3.12.4"
  }
 },
 "nbformat": 4,
 "nbformat_minor": 5
}
